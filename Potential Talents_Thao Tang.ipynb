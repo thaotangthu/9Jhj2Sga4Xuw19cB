{
 "cells": [
  {
   "cell_type": "markdown",
   "id": "f7c1f637",
   "metadata": {},
   "source": [
    "This project is to predict how fit the candidate is based on their available information (job title and the number of connection on Linkedin), utilizing Doc2Vec, BERT, ELMo embeddings and Learning to Rank model. By calculating the similarity score based on the embeddings of the desired job query and job title, scaling the number of connection, and then starring top 10 fittest applicants, LGBMRanker will be deployed to predict their ranking using the metric ndcg score.\n",
    "\n",
    "**Data Description:**\n",
    "\n",
    "- id : unique identifier for candidate (numeric)\n",
    "\n",
    "- job_title : job title for candidate (text)\n",
    "\n",
    "- location : geographical location for candidate (text)\n",
    "\n",
    "- connections: number of connections candidate has, 500+ means over 500 (text)\n",
    "\n",
    "- Output (desired target): fit - how fit the candidate is for the role? (numeric, probability between 0-1)\n",
    "\n",
    "Keywords: “Aspiring human resources” or “seeking human resources”"
   ]
  },
  {
   "cell_type": "markdown",
   "id": "aa3a1e09",
   "metadata": {},
   "source": [
    "# Table of contents\n",
    "- [Check datatype,  duplicates & missing values](#nan)\n",
    "- [Doc2Vec](#d2v)\n",
    "- [BERT](#bt)\n",
    "- [ELMo](#elmo)\n",
    "- [Learning to Rank](#ltr)\n",
    "- [Conclusion](#cl)\n"
   ]
  },
  {
   "cell_type": "code",
   "execution_count": 1,
   "id": "9bfaf3f4",
   "metadata": {},
   "outputs": [
    {
     "name": "stderr",
     "output_type": "stream",
     "text": [
      "[nltk_data] Downloading package stopwords to /Users/thao/nltk_data...\n",
      "[nltk_data]   Package stopwords is already up-to-date!\n"
     ]
    }
   ],
   "source": [
    "import numpy as np\n",
    "import pandas as pd\n",
    "pd.set_option('max_colwidth', 400)\n",
    "import gensim\n",
    "import gensim.downloader as api\n",
    "import re\n",
    "from gensim.corpora import Dictionary\n",
    "from gensim.utils import simple_preprocess\n",
    "from gensim.models.doc2vec import Doc2Vec, TaggedDocument\n",
    "from sklearn.metrics.pairwise import cosine_similarity\n",
    "from sklearn.preprocessing import MinMaxScaler\n",
    "from nltk.corpus import stopwords\n",
    "from nltk import download\n",
    "from sentence_transformers import SentenceTransformer\n",
    "import lightgbm \n",
    "from sklearn.model_selection import train_test_split, StratifiedKFold\n",
    "from sklearn.metrics import ndcg_score\n",
    "import random\n",
    "from tqdm import tqdm\n",
    "\n",
    "import tensorflow_hub as hub\n",
    "import tensorflow as tf\n",
    "from tensorflow.python.framework.ops import disable_eager_execution\n",
    "tf.compat.v1.disable_eager_execution()\n",
    "\n",
    "download('stopwords')  # Download stopwords list.\n",
    "stop_words = stopwords.words('english')\n",
    "\n",
    "import warnings\n",
    "warnings.filterwarnings('ignore')"
   ]
  },
  {
   "cell_type": "code",
   "execution_count": 2,
   "id": "8bb267d0",
   "metadata": {},
   "outputs": [
    {
     "data": {
      "text/html": [
       "<div>\n",
       "<style scoped>\n",
       "    .dataframe tbody tr th:only-of-type {\n",
       "        vertical-align: middle;\n",
       "    }\n",
       "\n",
       "    .dataframe tbody tr th {\n",
       "        vertical-align: top;\n",
       "    }\n",
       "\n",
       "    .dataframe thead th {\n",
       "        text-align: right;\n",
       "    }\n",
       "</style>\n",
       "<table border=\"1\" class=\"dataframe\">\n",
       "  <thead>\n",
       "    <tr style=\"text-align: right;\">\n",
       "      <th></th>\n",
       "      <th>id</th>\n",
       "      <th>job_title</th>\n",
       "      <th>location</th>\n",
       "      <th>connection</th>\n",
       "      <th>fit</th>\n",
       "    </tr>\n",
       "  </thead>\n",
       "  <tbody>\n",
       "    <tr>\n",
       "      <th>0</th>\n",
       "      <td>1</td>\n",
       "      <td>2019 C.T. Bauer College of Business Graduate (Magna Cum Laude) and aspiring Human Resources professional</td>\n",
       "      <td>Houston, Texas</td>\n",
       "      <td>85</td>\n",
       "      <td>NaN</td>\n",
       "    </tr>\n",
       "    <tr>\n",
       "      <th>1</th>\n",
       "      <td>2</td>\n",
       "      <td>Native English Teacher at EPIK (English Program in Korea)</td>\n",
       "      <td>Kanada</td>\n",
       "      <td>500+</td>\n",
       "      <td>NaN</td>\n",
       "    </tr>\n",
       "    <tr>\n",
       "      <th>2</th>\n",
       "      <td>3</td>\n",
       "      <td>Aspiring Human Resources Professional</td>\n",
       "      <td>Raleigh-Durham, North Carolina Area</td>\n",
       "      <td>44</td>\n",
       "      <td>NaN</td>\n",
       "    </tr>\n",
       "    <tr>\n",
       "      <th>3</th>\n",
       "      <td>4</td>\n",
       "      <td>People Development Coordinator at Ryan</td>\n",
       "      <td>Denton, Texas</td>\n",
       "      <td>500+</td>\n",
       "      <td>NaN</td>\n",
       "    </tr>\n",
       "    <tr>\n",
       "      <th>4</th>\n",
       "      <td>5</td>\n",
       "      <td>Advisory Board Member at Celal Bayar University</td>\n",
       "      <td>İzmir, Türkiye</td>\n",
       "      <td>500+</td>\n",
       "      <td>NaN</td>\n",
       "    </tr>\n",
       "  </tbody>\n",
       "</table>\n",
       "</div>"
      ],
      "text/plain": [
       "   id  \\\n",
       "0   1   \n",
       "1   2   \n",
       "2   3   \n",
       "3   4   \n",
       "4   5   \n",
       "\n",
       "                                                                                                  job_title  \\\n",
       "0  2019 C.T. Bauer College of Business Graduate (Magna Cum Laude) and aspiring Human Resources professional   \n",
       "1                                                 Native English Teacher at EPIK (English Program in Korea)   \n",
       "2                                                                     Aspiring Human Resources Professional   \n",
       "3                                                                    People Development Coordinator at Ryan   \n",
       "4                                                           Advisory Board Member at Celal Bayar University   \n",
       "\n",
       "                              location connection  fit  \n",
       "0                       Houston, Texas         85  NaN  \n",
       "1                               Kanada      500+   NaN  \n",
       "2  Raleigh-Durham, North Carolina Area         44  NaN  \n",
       "3                        Denton, Texas      500+   NaN  \n",
       "4                       İzmir, Türkiye      500+   NaN  "
      ]
     },
     "execution_count": 2,
     "metadata": {},
     "output_type": "execute_result"
    }
   ],
   "source": [
    "df=pd.read_csv('potential-talents - Aspiring human resources - seeking human resources.csv')\n",
    "df.head()"
   ]
  },
  {
   "cell_type": "code",
   "execution_count": 3,
   "id": "3ac72735",
   "metadata": {
    "scrolled": true
   },
   "outputs": [
    {
     "name": "stdout",
     "output_type": "stream",
     "text": [
      " This dataset has 104 rows and 5 columns.\n"
     ]
    }
   ],
   "source": [
    "print(f' This dataset has {df.shape[0]} rows and {df.shape[1]} columns.')"
   ]
  },
  {
   "cell_type": "markdown",
   "id": "f4bf469b",
   "metadata": {},
   "source": [
    "# Check datatype,  duplicates & missing values <a class=\"anchor\" id=\"nan\"></a>"
   ]
  },
  {
   "cell_type": "code",
   "execution_count": 4,
   "id": "6dd4b8d7",
   "metadata": {},
   "outputs": [
    {
     "name": "stdout",
     "output_type": "stream",
     "text": [
      "<class 'pandas.core.frame.DataFrame'>\n",
      "RangeIndex: 104 entries, 0 to 103\n",
      "Data columns (total 5 columns):\n",
      " #   Column      Non-Null Count  Dtype  \n",
      "---  ------      --------------  -----  \n",
      " 0   id          104 non-null    int64  \n",
      " 1   job_title   104 non-null    object \n",
      " 2   location    104 non-null    object \n",
      " 3   connection  104 non-null    object \n",
      " 4   fit         0 non-null      float64\n",
      "dtypes: float64(1), int64(1), object(3)\n",
      "memory usage: 4.2+ KB\n"
     ]
    }
   ],
   "source": [
    "df.info()"
   ]
  },
  {
   "cell_type": "code",
   "execution_count": 5,
   "id": "9458e650",
   "metadata": {
    "scrolled": false
   },
   "outputs": [
    {
     "data": {
      "text/plain": [
       "id              0\n",
       "job_title       0\n",
       "location        0\n",
       "connection      0\n",
       "fit           104\n",
       "dtype: int64"
      ]
     },
     "execution_count": 5,
     "metadata": {},
     "output_type": "execute_result"
    }
   ],
   "source": [
    "df.isna().sum()"
   ]
  },
  {
   "cell_type": "code",
   "execution_count": 6,
   "id": "a2c6827b",
   "metadata": {},
   "outputs": [
    {
     "data": {
      "text/plain": [
       "0"
      ]
     },
     "execution_count": 6,
     "metadata": {},
     "output_type": "execute_result"
    }
   ],
   "source": [
    "df.duplicated().sum()"
   ]
  },
  {
   "cell_type": "code",
   "execution_count": 7,
   "id": "e4c19737",
   "metadata": {},
   "outputs": [
    {
     "data": {
      "text/html": [
       "<div>\n",
       "<style scoped>\n",
       "    .dataframe tbody tr th:only-of-type {\n",
       "        vertical-align: middle;\n",
       "    }\n",
       "\n",
       "    .dataframe tbody tr th {\n",
       "        vertical-align: top;\n",
       "    }\n",
       "\n",
       "    .dataframe thead th {\n",
       "        text-align: right;\n",
       "    }\n",
       "</style>\n",
       "<table border=\"1\" class=\"dataframe\">\n",
       "  <thead>\n",
       "    <tr style=\"text-align: right;\">\n",
       "      <th></th>\n",
       "      <th>job_title</th>\n",
       "      <th>connection</th>\n",
       "    </tr>\n",
       "  </thead>\n",
       "  <tbody>\n",
       "    <tr>\n",
       "      <th>0</th>\n",
       "      <td>2019 C.T. Bauer College of Business Graduate (Magna Cum Laude) and aspiring Human Resources professional</td>\n",
       "      <td>85</td>\n",
       "    </tr>\n",
       "    <tr>\n",
       "      <th>1</th>\n",
       "      <td>Native English Teacher at EPIK (English Program in Korea)</td>\n",
       "      <td>500+</td>\n",
       "    </tr>\n",
       "    <tr>\n",
       "      <th>2</th>\n",
       "      <td>Aspiring Human Resources Professional</td>\n",
       "      <td>44</td>\n",
       "    </tr>\n",
       "    <tr>\n",
       "      <th>3</th>\n",
       "      <td>People Development Coordinator at Ryan</td>\n",
       "      <td>500+</td>\n",
       "    </tr>\n",
       "    <tr>\n",
       "      <th>4</th>\n",
       "      <td>Advisory Board Member at Celal Bayar University</td>\n",
       "      <td>500+</td>\n",
       "    </tr>\n",
       "  </tbody>\n",
       "</table>\n",
       "</div>"
      ],
      "text/plain": [
       "                                                                                                  job_title  \\\n",
       "0  2019 C.T. Bauer College of Business Graduate (Magna Cum Laude) and aspiring Human Resources professional   \n",
       "1                                                 Native English Teacher at EPIK (English Program in Korea)   \n",
       "2                                                                     Aspiring Human Resources Professional   \n",
       "3                                                                    People Development Coordinator at Ryan   \n",
       "4                                                           Advisory Board Member at Celal Bayar University   \n",
       "\n",
       "  connection  \n",
       "0         85  \n",
       "1      500+   \n",
       "2         44  \n",
       "3      500+   \n",
       "4      500+   "
      ]
     },
     "execution_count": 7,
     "metadata": {},
     "output_type": "execute_result"
    }
   ],
   "source": [
    "# we'll use only 2 columns job_title and connection\n",
    "docs=df[['job_title','connection']]\n",
    "docs.head()"
   ]
  },
  {
   "cell_type": "markdown",
   "id": "873c5306",
   "metadata": {},
   "source": [
    "# Doc2Vec <a class=\"anchor\" id=\"d2v\"></a>"
   ]
  },
  {
   "cell_type": "code",
   "execution_count": 8,
   "id": "3cc57fcf",
   "metadata": {
    "scrolled": true
   },
   "outputs": [
    {
     "name": "stdout",
     "output_type": "stream",
     "text": [
      "Job title 0: 2019 C.T. Bauer College of Business Graduate (Magna Cum Laude) and aspiring Human Resources professional\n",
      "After preprocessing: ['bauer', 'college', 'business', 'graduate', 'magna', 'cum', 'laude', 'aspiring', 'human', 'resources', 'professional'] \n",
      "\n",
      "=============================\n",
      "\n",
      "Job title 1: Native English Teacher at EPIK (English Program in Korea)\n",
      "After preprocessing: ['native', 'english', 'teacher', 'epik', 'english', 'program', 'korea'] \n",
      "\n",
      "=============================\n",
      "\n",
      "Job title 2: Aspiring Human Resources Professional\n",
      "After preprocessing: ['aspiring', 'human', 'resources', 'professional'] \n",
      "\n",
      "=============================\n",
      "\n",
      "Job title 3: People Development Coordinator at Ryan\n",
      "After preprocessing: ['people', 'development', 'coordinator', 'ryan'] \n",
      "\n",
      "=============================\n",
      "\n",
      "Job title 4: Advisory Board Member at Celal Bayar University\n",
      "After preprocessing: ['advisory', 'board', 'member', 'celal', 'bayar', 'university'] \n",
      "\n",
      "=============================\n",
      "\n"
     ]
    }
   ],
   "source": [
    "# prepare dataset for doc2vec by tokenizing and removing stop words\n",
    "\n",
    "def preprocess(sentence):\n",
    "    return [w for w in simple_preprocess(sentence) if w not in stop_words]\n",
    "\n",
    "data = [preprocess(d) for d in docs['job_title']]\n",
    "\n",
    "# look at the first 5 values\n",
    "for i in range (5):\n",
    "    print(f\"Job title {i}: {docs['job_title'][i]}\")\n",
    "    print('After preprocessing:', data[i],'\\n')\n",
    "    print('=============================\\n')"
   ]
  },
  {
   "cell_type": "code",
   "execution_count": 9,
   "id": "8bc0669c",
   "metadata": {},
   "outputs": [
    {
     "name": "stdout",
     "output_type": "stream",
     "text": [
      "[TaggedDocument(words=['bauer', 'college', 'business', 'graduate', 'magna', 'cum', 'laude', 'aspiring', 'human', 'resources', 'professional'], tags=[0])]\n"
     ]
    }
   ],
   "source": [
    "# Create the tagged document needed for Doc2Vec\n",
    "def create_tagged_document(list_of_list_of_words):\n",
    "    for i, list_of_words in enumerate(list_of_list_of_words):\n",
    "        yield TaggedDocument(list_of_words, [i])\n",
    "\n",
    "train_data = list(create_tagged_document(data))\n",
    "\n",
    "# sanity check\n",
    "print(train_data[:1])"
   ]
  },
  {
   "cell_type": "code",
   "execution_count": 10,
   "id": "daeccebe",
   "metadata": {
    "scrolled": false
   },
   "outputs": [
    {
     "name": "stdout",
     "output_type": "stream",
     "text": [
      "Raw text: SVP, CHRO, Marketing & Communications, CSR Officer | ENGIE | Houston | The Woodlands | Energy | GPHR | SPHR\n",
      "\n",
      "After preprocessing:  ['svp', 'chro', 'marketing', 'communications', 'csr', 'officer', 'engie', 'houston', 'woodlands', 'energy', 'gphr', 'sphr']\n",
      "\n",
      "Vector: [-0.10691799 -0.06836569 -0.19530652 -0.0626753   0.01557998 -0.17214178\n",
      " -0.04185408  0.00810375 -0.03722889 -0.10382488 -0.04980865 -0.06761736\n",
      " -0.04846491 -0.0109671   0.04851419 -0.136051    0.02338213 -0.13134462\n",
      "  0.00915116  0.1314455   0.04632595  0.10297962  0.13377146 -0.01888299\n",
      "  0.09488532 -0.06988629 -0.07636788 -0.07854041 -0.17132972 -0.13502465\n",
      "  0.12179243  0.1369402   0.0614278   0.02229712  0.00998656  0.16442414\n",
      " -0.14905068 -0.06417432 -0.09183645 -0.11946054  0.00405092  0.03931822\n",
      " -0.02637834 -0.1921826  -0.01984078 -0.02502044  0.10387113 -0.08810337\n",
      "  0.15761821  0.18379055  0.00273399  0.12167688  0.09034173  0.01714149\n",
      "  0.05855346 -0.02097488 -0.02265622 -0.06827357 -0.09534511 -0.04513055\n",
      " -0.00784148  0.16331124 -0.02411046 -0.03049809 -0.17504612  0.1905172\n",
      " -0.19628584  0.07263751 -0.19269514  0.31297436  0.03882293  0.02972176\n",
      "  0.26486528  0.10299489  0.16257083  0.06379836  0.00491806 -0.00777388\n",
      " -0.08377253  0.05249863 -0.11682244  0.08726644 -0.24956265  0.2374448\n",
      " -0.10085984 -0.04355664  0.08618491  0.02639575 -0.00103402 -0.04064212\n",
      "  0.17782602  0.07646871  0.05248252  0.02554778  0.02391853  0.11276465\n",
      " -0.06426681  0.0286331  -0.13399048 -0.09698609]\n"
     ]
    }
   ],
   "source": [
    "# Initiate the Doc2Vec model\n",
    "doc2vec = Doc2Vec(min_count=1, epochs=100)\n",
    "\n",
    "# Build the Vocabulary\n",
    "doc2vec.build_vocab(train_data)\n",
    "\n",
    "# Train the Doc2Vec model\n",
    "doc2vec.train(train_data, total_examples=doc2vec.corpus_count, epochs=doc2vec.epochs)\n",
    "\n",
    "# sanity check\n",
    "print(\"Raw text:\", docs.loc[11,'job_title'])\n",
    "print(\"\\nAfter preprocessing: \", preprocess(docs.loc[11,'job_title']))\n",
    "print(\"\\nVector:\", doc2vec.infer_vector(preprocess(docs.loc[11,'job_title'])))"
   ]
  },
  {
   "cell_type": "code",
   "execution_count": 11,
   "id": "f3f6b0a5",
   "metadata": {},
   "outputs": [
    {
     "data": {
      "text/html": [
       "<div>\n",
       "<style scoped>\n",
       "    .dataframe tbody tr th:only-of-type {\n",
       "        vertical-align: middle;\n",
       "    }\n",
       "\n",
       "    .dataframe tbody tr th {\n",
       "        vertical-align: top;\n",
       "    }\n",
       "\n",
       "    .dataframe thead th {\n",
       "        text-align: right;\n",
       "    }\n",
       "</style>\n",
       "<table border=\"1\" class=\"dataframe\">\n",
       "  <thead>\n",
       "    <tr style=\"text-align: right;\">\n",
       "      <th></th>\n",
       "      <th>job_title</th>\n",
       "      <th>connection</th>\n",
       "      <th>Doc2Vec_Cosine_Similarity</th>\n",
       "    </tr>\n",
       "  </thead>\n",
       "  <tbody>\n",
       "    <tr>\n",
       "      <th>77</th>\n",
       "      <td>Human Resources Generalist at Schwan's</td>\n",
       "      <td>500+</td>\n",
       "      <td>0.996022</td>\n",
       "    </tr>\n",
       "    <tr>\n",
       "      <th>70</th>\n",
       "      <td>Human Resources Generalist at ScottMadden, Inc.</td>\n",
       "      <td>500+</td>\n",
       "      <td>0.995471</td>\n",
       "    </tr>\n",
       "    <tr>\n",
       "      <th>93</th>\n",
       "      <td>Seeking Human  Resources Opportunities. Open to travel and relocation.</td>\n",
       "      <td>415</td>\n",
       "      <td>0.995366</td>\n",
       "    </tr>\n",
       "    <tr>\n",
       "      <th>94</th>\n",
       "      <td>Student at Westfield State University</td>\n",
       "      <td>57</td>\n",
       "      <td>0.995169</td>\n",
       "    </tr>\n",
       "    <tr>\n",
       "      <th>75</th>\n",
       "      <td>Aspiring Human Resources Professional | Passionate about helping to create an inclusive and engaging work environment</td>\n",
       "      <td>212</td>\n",
       "      <td>0.995004</td>\n",
       "    </tr>\n",
       "    <tr>\n",
       "      <th>102</th>\n",
       "      <td>Always set them up for Success</td>\n",
       "      <td>500+</td>\n",
       "      <td>0.994992</td>\n",
       "    </tr>\n",
       "    <tr>\n",
       "      <th>87</th>\n",
       "      <td>Human Resources Management Major</td>\n",
       "      <td>18</td>\n",
       "      <td>0.994867</td>\n",
       "    </tr>\n",
       "    <tr>\n",
       "      <th>103</th>\n",
       "      <td>Director Of Administration at Excellence Logging</td>\n",
       "      <td>500+</td>\n",
       "      <td>0.994567</td>\n",
       "    </tr>\n",
       "    <tr>\n",
       "      <th>101</th>\n",
       "      <td>Business Intelligence and Analytics at Travelers</td>\n",
       "      <td>49</td>\n",
       "      <td>0.994506</td>\n",
       "    </tr>\n",
       "    <tr>\n",
       "      <th>90</th>\n",
       "      <td>Lead Official at Western Illinois University</td>\n",
       "      <td>39</td>\n",
       "      <td>0.994412</td>\n",
       "    </tr>\n",
       "    <tr>\n",
       "      <th>27</th>\n",
       "      <td>Seeking Human Resources Opportunities</td>\n",
       "      <td>390</td>\n",
       "      <td>0.994370</td>\n",
       "    </tr>\n",
       "    <tr>\n",
       "      <th>89</th>\n",
       "      <td>Undergraduate Research Assistant at Styczynski Lab</td>\n",
       "      <td>155</td>\n",
       "      <td>0.994082</td>\n",
       "    </tr>\n",
       "    <tr>\n",
       "      <th>88</th>\n",
       "      <td>Director Human Resources  at EY</td>\n",
       "      <td>349</td>\n",
       "      <td>0.994033</td>\n",
       "    </tr>\n",
       "    <tr>\n",
       "      <th>86</th>\n",
       "      <td>Bachelor of Science in Biology from Victoria University of Wellington</td>\n",
       "      <td>40</td>\n",
       "      <td>0.993928</td>\n",
       "    </tr>\n",
       "    <tr>\n",
       "      <th>12</th>\n",
       "      <td>Human Resources Coordinator at InterContinental Buckhead Atlanta</td>\n",
       "      <td>500+</td>\n",
       "      <td>0.993857</td>\n",
       "    </tr>\n",
       "    <tr>\n",
       "      <th>78</th>\n",
       "      <td>Liberal Arts Major. Aspiring Human Resources Analyst.</td>\n",
       "      <td>7</td>\n",
       "      <td>0.993780</td>\n",
       "    </tr>\n",
       "    <tr>\n",
       "      <th>65</th>\n",
       "      <td>Experienced Retail Manager and aspiring Human Resources Professional</td>\n",
       "      <td>57</td>\n",
       "      <td>0.993762</td>\n",
       "    </tr>\n",
       "    <tr>\n",
       "      <th>85</th>\n",
       "      <td>Information Systems Specialist and Programmer with a love for data and organization.</td>\n",
       "      <td>4</td>\n",
       "      <td>0.993723</td>\n",
       "    </tr>\n",
       "    <tr>\n",
       "      <th>74</th>\n",
       "      <td>Nortia Staffing is seeking Human Resources, Payroll &amp; Administrative Professionals!!  (408) 709-2621</td>\n",
       "      <td>500+</td>\n",
       "      <td>0.993494</td>\n",
       "    </tr>\n",
       "    <tr>\n",
       "      <th>83</th>\n",
       "      <td>Human Resources professional for the world leader in GIS software</td>\n",
       "      <td>50</td>\n",
       "      <td>0.993482</td>\n",
       "    </tr>\n",
       "  </tbody>\n",
       "</table>\n",
       "</div>"
      ],
      "text/plain": [
       "                                                                                                                 job_title  \\\n",
       "77                                                                                  Human Resources Generalist at Schwan's   \n",
       "70                                                                         Human Resources Generalist at ScottMadden, Inc.   \n",
       "93                                                  Seeking Human  Resources Opportunities. Open to travel and relocation.   \n",
       "94                                                                                   Student at Westfield State University   \n",
       "75   Aspiring Human Resources Professional | Passionate about helping to create an inclusive and engaging work environment   \n",
       "102                                                                                         Always set them up for Success   \n",
       "87                                                                                        Human Resources Management Major   \n",
       "103                                                                       Director Of Administration at Excellence Logging   \n",
       "101                                                                       Business Intelligence and Analytics at Travelers   \n",
       "90                                                                            Lead Official at Western Illinois University   \n",
       "27                                                                                   Seeking Human Resources Opportunities   \n",
       "89                                                                      Undergraduate Research Assistant at Styczynski Lab   \n",
       "88                                                                                         Director Human Resources  at EY   \n",
       "86                                                   Bachelor of Science in Biology from Victoria University of Wellington   \n",
       "12                                                        Human Resources Coordinator at InterContinental Buckhead Atlanta   \n",
       "78                                                                   Liberal Arts Major. Aspiring Human Resources Analyst.   \n",
       "65                                                    Experienced Retail Manager and aspiring Human Resources Professional   \n",
       "85                                    Information Systems Specialist and Programmer with a love for data and organization.   \n",
       "74                    Nortia Staffing is seeking Human Resources, Payroll & Administrative Professionals!!  (408) 709-2621   \n",
       "83                                                       Human Resources professional for the world leader in GIS software   \n",
       "\n",
       "    connection  Doc2Vec_Cosine_Similarity  \n",
       "77       500+                    0.996022  \n",
       "70       500+                    0.995471  \n",
       "93         415                   0.995366  \n",
       "94          57                   0.995169  \n",
       "75         212                   0.995004  \n",
       "102      500+                    0.994992  \n",
       "87          18                   0.994867  \n",
       "103      500+                    0.994567  \n",
       "101         49                   0.994506  \n",
       "90          39                   0.994412  \n",
       "27         390                   0.994370  \n",
       "89         155                   0.994082  \n",
       "88         349                   0.994033  \n",
       "86          40                   0.993928  \n",
       "12       500+                    0.993857  \n",
       "78           7                   0.993780  \n",
       "65          57                   0.993762  \n",
       "85           4                   0.993723  \n",
       "74       500+                    0.993494  \n",
       "83          50                   0.993482  "
      ]
     },
     "execution_count": 11,
     "metadata": {},
     "output_type": "execute_result"
    }
   ],
   "source": [
    "query = 'Aspiring human resources'  \n",
    "\n",
    "# embed all job titles and calculate Cosine Similarity with the query\n",
    "doc2vec.random.seed(11)\n",
    "docs['Doc2Vec_Cosine_Similarity'] = docs.apply((lambda row: cosine_similarity(\n",
    "                                        doc2vec.infer_vector(preprocess(row['job_title'])).reshape(1,-1), \n",
    "                                        doc2vec.infer_vector(preprocess(query)).reshape(1,-1))[0][0]), axis=1)\n",
    "\n",
    "docs.sort_values(by='Doc2Vec_Cosine_Similarity', ascending=False).head(20)"
   ]
  },
  {
   "cell_type": "code",
   "execution_count": 12,
   "id": "3022e79d",
   "metadata": {},
   "outputs": [
    {
     "data": {
      "text/html": [
       "<div>\n",
       "<style scoped>\n",
       "    .dataframe tbody tr th:only-of-type {\n",
       "        vertical-align: middle;\n",
       "    }\n",
       "\n",
       "    .dataframe tbody tr th {\n",
       "        vertical-align: top;\n",
       "    }\n",
       "\n",
       "    .dataframe thead th {\n",
       "        text-align: right;\n",
       "    }\n",
       "</style>\n",
       "<table border=\"1\" class=\"dataframe\">\n",
       "  <thead>\n",
       "    <tr style=\"text-align: right;\">\n",
       "      <th></th>\n",
       "      <th>job_title</th>\n",
       "      <th>connection</th>\n",
       "      <th>Doc2Vec_Cosine_Similarity</th>\n",
       "      <th>Scaled_Connection</th>\n",
       "      <th>Doc2Vec_Ranking</th>\n",
       "    </tr>\n",
       "  </thead>\n",
       "  <tbody>\n",
       "    <tr>\n",
       "      <th>77</th>\n",
       "      <td>Human Resources Generalist at Schwan's</td>\n",
       "      <td>500</td>\n",
       "      <td>0.996022</td>\n",
       "      <td>1.0</td>\n",
       "      <td>0.996818</td>\n",
       "    </tr>\n",
       "    <tr>\n",
       "      <th>70</th>\n",
       "      <td>Human Resources Generalist at ScottMadden, Inc.</td>\n",
       "      <td>500</td>\n",
       "      <td>0.995471</td>\n",
       "      <td>1.0</td>\n",
       "      <td>0.996377</td>\n",
       "    </tr>\n",
       "    <tr>\n",
       "      <th>102</th>\n",
       "      <td>Always set them up for Success</td>\n",
       "      <td>500</td>\n",
       "      <td>0.994992</td>\n",
       "      <td>1.0</td>\n",
       "      <td>0.995994</td>\n",
       "    </tr>\n",
       "    <tr>\n",
       "      <th>103</th>\n",
       "      <td>Director Of Administration at Excellence Logging</td>\n",
       "      <td>500</td>\n",
       "      <td>0.994567</td>\n",
       "      <td>1.0</td>\n",
       "      <td>0.995654</td>\n",
       "    </tr>\n",
       "    <tr>\n",
       "      <th>12</th>\n",
       "      <td>Human Resources Coordinator at InterContinental Buckhead Atlanta</td>\n",
       "      <td>500</td>\n",
       "      <td>0.993857</td>\n",
       "      <td>1.0</td>\n",
       "      <td>0.995086</td>\n",
       "    </tr>\n",
       "    <tr>\n",
       "      <th>74</th>\n",
       "      <td>Nortia Staffing is seeking Human Resources, Payroll &amp; Administrative Professionals!!  (408) 709-2621</td>\n",
       "      <td>500</td>\n",
       "      <td>0.993494</td>\n",
       "      <td>1.0</td>\n",
       "      <td>0.994796</td>\n",
       "    </tr>\n",
       "    <tr>\n",
       "      <th>66</th>\n",
       "      <td>Human Resources, Staffing and Recruiting Professional</td>\n",
       "      <td>500</td>\n",
       "      <td>0.993116</td>\n",
       "      <td>1.0</td>\n",
       "      <td>0.994493</td>\n",
       "    </tr>\n",
       "    <tr>\n",
       "      <th>26</th>\n",
       "      <td>Aspiring Human Resources Management student seeking an internship</td>\n",
       "      <td>500</td>\n",
       "      <td>0.993100</td>\n",
       "      <td>1.0</td>\n",
       "      <td>0.994480</td>\n",
       "    </tr>\n",
       "    <tr>\n",
       "      <th>84</th>\n",
       "      <td>RRP Brand Portfolio Executive at JTI (Japan Tobacco International)</td>\n",
       "      <td>500</td>\n",
       "      <td>0.993054</td>\n",
       "      <td>1.0</td>\n",
       "      <td>0.994443</td>\n",
       "    </tr>\n",
       "    <tr>\n",
       "      <th>52</th>\n",
       "      <td>Seeking Human Resources HRIS and Generalist Positions</td>\n",
       "      <td>500</td>\n",
       "      <td>0.992563</td>\n",
       "      <td>1.0</td>\n",
       "      <td>0.994051</td>\n",
       "    </tr>\n",
       "    <tr>\n",
       "      <th>68</th>\n",
       "      <td>Director of Human Resources North America, Groupe Beneteau</td>\n",
       "      <td>500</td>\n",
       "      <td>0.992183</td>\n",
       "      <td>1.0</td>\n",
       "      <td>0.993746</td>\n",
       "    </tr>\n",
       "    <tr>\n",
       "      <th>37</th>\n",
       "      <td>HR Senior Specialist</td>\n",
       "      <td>500</td>\n",
       "      <td>0.992180</td>\n",
       "      <td>1.0</td>\n",
       "      <td>0.993744</td>\n",
       "    </tr>\n",
       "    <tr>\n",
       "      <th>42</th>\n",
       "      <td>Human Resources Coordinator at InterContinental Buckhead Atlanta</td>\n",
       "      <td>500</td>\n",
       "      <td>0.992095</td>\n",
       "      <td>1.0</td>\n",
       "      <td>0.993676</td>\n",
       "    </tr>\n",
       "    <tr>\n",
       "      <th>39</th>\n",
       "      <td>Seeking Human Resources HRIS and Generalist Positions</td>\n",
       "      <td>500</td>\n",
       "      <td>0.991987</td>\n",
       "      <td>1.0</td>\n",
       "      <td>0.993590</td>\n",
       "    </tr>\n",
       "    <tr>\n",
       "      <th>61</th>\n",
       "      <td>Seeking Human Resources HRIS and Generalist Positions</td>\n",
       "      <td>500</td>\n",
       "      <td>0.991822</td>\n",
       "      <td>1.0</td>\n",
       "      <td>0.993458</td>\n",
       "    </tr>\n",
       "    <tr>\n",
       "      <th>100</th>\n",
       "      <td>Human Resources Generalist at Loparex</td>\n",
       "      <td>500</td>\n",
       "      <td>0.991807</td>\n",
       "      <td>1.0</td>\n",
       "      <td>0.993446</td>\n",
       "    </tr>\n",
       "    <tr>\n",
       "      <th>9</th>\n",
       "      <td>Seeking Human Resources HRIS and Generalist Positions</td>\n",
       "      <td>500</td>\n",
       "      <td>0.991106</td>\n",
       "      <td>1.0</td>\n",
       "      <td>0.992885</td>\n",
       "    </tr>\n",
       "    <tr>\n",
       "      <th>67</th>\n",
       "      <td>Human Resources Specialist at Luxottica</td>\n",
       "      <td>500</td>\n",
       "      <td>0.990723</td>\n",
       "      <td>1.0</td>\n",
       "      <td>0.992578</td>\n",
       "    </tr>\n",
       "    <tr>\n",
       "      <th>7</th>\n",
       "      <td>HR Senior Specialist</td>\n",
       "      <td>500</td>\n",
       "      <td>0.990522</td>\n",
       "      <td>1.0</td>\n",
       "      <td>0.992418</td>\n",
       "    </tr>\n",
       "    <tr>\n",
       "      <th>28</th>\n",
       "      <td>Aspiring Human Resources Management student seeking an internship</td>\n",
       "      <td>500</td>\n",
       "      <td>0.990206</td>\n",
       "      <td>1.0</td>\n",
       "      <td>0.992165</td>\n",
       "    </tr>\n",
       "  </tbody>\n",
       "</table>\n",
       "</div>"
      ],
      "text/plain": [
       "                                                                                                job_title  \\\n",
       "77                                                                 Human Resources Generalist at Schwan's   \n",
       "70                                                        Human Resources Generalist at ScottMadden, Inc.   \n",
       "102                                                                        Always set them up for Success   \n",
       "103                                                      Director Of Administration at Excellence Logging   \n",
       "12                                       Human Resources Coordinator at InterContinental Buckhead Atlanta   \n",
       "74   Nortia Staffing is seeking Human Resources, Payroll & Administrative Professionals!!  (408) 709-2621   \n",
       "66                                                  Human Resources, Staffing and Recruiting Professional   \n",
       "26                                      Aspiring Human Resources Management student seeking an internship   \n",
       "84                                     RRP Brand Portfolio Executive at JTI (Japan Tobacco International)   \n",
       "52                                                  Seeking Human Resources HRIS and Generalist Positions   \n",
       "68                                             Director of Human Resources North America, Groupe Beneteau   \n",
       "37                                                                                   HR Senior Specialist   \n",
       "42                                       Human Resources Coordinator at InterContinental Buckhead Atlanta   \n",
       "39                                                  Seeking Human Resources HRIS and Generalist Positions   \n",
       "61                                                  Seeking Human Resources HRIS and Generalist Positions   \n",
       "100                                                                 Human Resources Generalist at Loparex   \n",
       "9                                                   Seeking Human Resources HRIS and Generalist Positions   \n",
       "67                                                                Human Resources Specialist at Luxottica   \n",
       "7                                                                                    HR Senior Specialist   \n",
       "28                                      Aspiring Human Resources Management student seeking an internship   \n",
       "\n",
       "    connection  Doc2Vec_Cosine_Similarity  Scaled_Connection  Doc2Vec_Ranking  \n",
       "77         500                   0.996022                1.0         0.996818  \n",
       "70         500                   0.995471                1.0         0.996377  \n",
       "102        500                   0.994992                1.0         0.995994  \n",
       "103        500                   0.994567                1.0         0.995654  \n",
       "12         500                   0.993857                1.0         0.995086  \n",
       "74         500                   0.993494                1.0         0.994796  \n",
       "66         500                   0.993116                1.0         0.994493  \n",
       "26         500                   0.993100                1.0         0.994480  \n",
       "84         500                   0.993054                1.0         0.994443  \n",
       "52         500                   0.992563                1.0         0.994051  \n",
       "68         500                   0.992183                1.0         0.993746  \n",
       "37         500                   0.992180                1.0         0.993744  \n",
       "42         500                   0.992095                1.0         0.993676  \n",
       "39         500                   0.991987                1.0         0.993590  \n",
       "61         500                   0.991822                1.0         0.993458  \n",
       "100        500                   0.991807                1.0         0.993446  \n",
       "9          500                   0.991106                1.0         0.992885  \n",
       "67         500                   0.990723                1.0         0.992578  \n",
       "7          500                   0.990522                1.0         0.992418  \n",
       "28         500                   0.990206                1.0         0.992165  "
      ]
     },
     "execution_count": 12,
     "metadata": {},
     "output_type": "execute_result"
    }
   ],
   "source": [
    "# turn 500+ connection into 500 \n",
    "docs['connection'] = np.where(docs['connection'] == '500+ ', 500, docs['connection'])\n",
    "\n",
    "# scale connection\n",
    "scaler = MinMaxScaler()\n",
    "docs[['Scaled_Connection']] = scaler.fit_transform(docs[['connection']])\n",
    "\n",
    "# calculate ranking by weighted sum of cosine_similarity and scaled_connection\n",
    "docs['Doc2Vec_Ranking']=docs['Doc2Vec_Cosine_Similarity']*0.8 + docs['Scaled_Connection']*0.2\n",
    "\n",
    "# sort ranking\n",
    "docs.sort_values(by='Doc2Vec_Ranking', ascending=False).head(20)"
   ]
  },
  {
   "cell_type": "markdown",
   "id": "9bf088c9",
   "metadata": {},
   "source": [
    "# BERT <a class=\"anchor\" id=\"bt\"></a>"
   ]
  },
  {
   "cell_type": "code",
   "execution_count": 13,
   "id": "6c2a4870",
   "metadata": {
    "scrolled": false
   },
   "outputs": [
    {
     "name": "stdout",
     "output_type": "stream",
     "text": [
      "SentenceTransformer(\n",
      "  (0): Transformer({'max_seq_length': 384, 'do_lower_case': False}) with Transformer model: MPNetModel \n",
      "  (1): Pooling({'word_embedding_dimension': 768, 'pooling_mode_cls_token': False, 'pooling_mode_mean_tokens': True, 'pooling_mode_max_tokens': False, 'pooling_mode_mean_sqrt_len_tokens': False})\n",
      "  (2): Normalize()\n",
      ")\n"
     ]
    }
   ],
   "source": [
    "# use pre-trained BERT model: all-mpnet-base-v2\n",
    "model = SentenceTransformer('all-mpnet-base-v2')\n",
    "print(model)"
   ]
  },
  {
   "cell_type": "code",
   "execution_count": 14,
   "id": "fc7a2ce7",
   "metadata": {
    "scrolled": true
   },
   "outputs": [
    {
     "data": {
      "text/html": [
       "<div>\n",
       "<style scoped>\n",
       "    .dataframe tbody tr th:only-of-type {\n",
       "        vertical-align: middle;\n",
       "    }\n",
       "\n",
       "    .dataframe tbody tr th {\n",
       "        vertical-align: top;\n",
       "    }\n",
       "\n",
       "    .dataframe thead th {\n",
       "        text-align: right;\n",
       "    }\n",
       "</style>\n",
       "<table border=\"1\" class=\"dataframe\">\n",
       "  <thead>\n",
       "    <tr style=\"text-align: right;\">\n",
       "      <th></th>\n",
       "      <th>job_title</th>\n",
       "      <th>connection</th>\n",
       "      <th>Doc2Vec_Cosine_Similarity</th>\n",
       "      <th>Scaled_Connection</th>\n",
       "      <th>Doc2Vec_Ranking</th>\n",
       "      <th>BERT_Cosine_Similarity</th>\n",
       "    </tr>\n",
       "  </thead>\n",
       "  <tbody>\n",
       "    <tr>\n",
       "      <th>45</th>\n",
       "      <td>Aspiring Human Resources Professional</td>\n",
       "      <td>44</td>\n",
       "      <td>0.987335</td>\n",
       "      <td>0.086172</td>\n",
       "      <td>0.807102</td>\n",
       "      <td>0.879234</td>\n",
       "    </tr>\n",
       "    <tr>\n",
       "      <th>2</th>\n",
       "      <td>Aspiring Human Resources Professional</td>\n",
       "      <td>44</td>\n",
       "      <td>0.991057</td>\n",
       "      <td>0.086172</td>\n",
       "      <td>0.810080</td>\n",
       "      <td>0.879234</td>\n",
       "    </tr>\n",
       "    <tr>\n",
       "      <th>20</th>\n",
       "      <td>Aspiring Human Resources Professional</td>\n",
       "      <td>44</td>\n",
       "      <td>0.992690</td>\n",
       "      <td>0.086172</td>\n",
       "      <td>0.811386</td>\n",
       "      <td>0.879234</td>\n",
       "    </tr>\n",
       "    <tr>\n",
       "      <th>96</th>\n",
       "      <td>Aspiring Human Resources Professional</td>\n",
       "      <td>71</td>\n",
       "      <td>0.990583</td>\n",
       "      <td>0.140281</td>\n",
       "      <td>0.820523</td>\n",
       "      <td>0.879234</td>\n",
       "    </tr>\n",
       "    <tr>\n",
       "      <th>32</th>\n",
       "      <td>Aspiring Human Resources Professional</td>\n",
       "      <td>44</td>\n",
       "      <td>0.992645</td>\n",
       "      <td>0.086172</td>\n",
       "      <td>0.811350</td>\n",
       "      <td>0.879234</td>\n",
       "    </tr>\n",
       "    <tr>\n",
       "      <th>57</th>\n",
       "      <td>Aspiring Human Resources Professional</td>\n",
       "      <td>44</td>\n",
       "      <td>0.991254</td>\n",
       "      <td>0.086172</td>\n",
       "      <td>0.810238</td>\n",
       "      <td>0.879234</td>\n",
       "    </tr>\n",
       "    <tr>\n",
       "      <th>16</th>\n",
       "      <td>Aspiring Human Resources Professional</td>\n",
       "      <td>44</td>\n",
       "      <td>0.980862</td>\n",
       "      <td>0.086172</td>\n",
       "      <td>0.801924</td>\n",
       "      <td>0.879234</td>\n",
       "    </tr>\n",
       "    <tr>\n",
       "      <th>48</th>\n",
       "      <td>Aspiring Human Resources Specialist</td>\n",
       "      <td>1</td>\n",
       "      <td>0.985467</td>\n",
       "      <td>0.000000</td>\n",
       "      <td>0.788373</td>\n",
       "      <td>0.864964</td>\n",
       "    </tr>\n",
       "    <tr>\n",
       "      <th>5</th>\n",
       "      <td>Aspiring Human Resources Specialist</td>\n",
       "      <td>1</td>\n",
       "      <td>0.990545</td>\n",
       "      <td>0.000000</td>\n",
       "      <td>0.792436</td>\n",
       "      <td>0.864964</td>\n",
       "    </tr>\n",
       "    <tr>\n",
       "      <th>59</th>\n",
       "      <td>Aspiring Human Resources Specialist</td>\n",
       "      <td>1</td>\n",
       "      <td>0.990920</td>\n",
       "      <td>0.000000</td>\n",
       "      <td>0.792736</td>\n",
       "      <td>0.864964</td>\n",
       "    </tr>\n",
       "    <tr>\n",
       "      <th>23</th>\n",
       "      <td>Aspiring Human Resources Specialist</td>\n",
       "      <td>1</td>\n",
       "      <td>0.990798</td>\n",
       "      <td>0.000000</td>\n",
       "      <td>0.792638</td>\n",
       "      <td>0.864964</td>\n",
       "    </tr>\n",
       "    <tr>\n",
       "      <th>35</th>\n",
       "      <td>Aspiring Human Resources Specialist</td>\n",
       "      <td>1</td>\n",
       "      <td>0.990959</td>\n",
       "      <td>0.000000</td>\n",
       "      <td>0.792767</td>\n",
       "      <td>0.864964</td>\n",
       "    </tr>\n",
       "    <tr>\n",
       "      <th>81</th>\n",
       "      <td>Aspiring Human Resources Professional | An energetic and Team-Focused Leader</td>\n",
       "      <td>174</td>\n",
       "      <td>0.984992</td>\n",
       "      <td>0.346693</td>\n",
       "      <td>0.857333</td>\n",
       "      <td>0.775665</td>\n",
       "    </tr>\n",
       "    <tr>\n",
       "      <th>73</th>\n",
       "      <td>Human Resources Professional</td>\n",
       "      <td>16</td>\n",
       "      <td>0.990839</td>\n",
       "      <td>0.030060</td>\n",
       "      <td>0.798683</td>\n",
       "      <td>0.754996</td>\n",
       "    </tr>\n",
       "    <tr>\n",
       "      <th>51</th>\n",
       "      <td>Student at Humber College and Aspiring Human Resources Generalist</td>\n",
       "      <td>61</td>\n",
       "      <td>0.986043</td>\n",
       "      <td>0.120240</td>\n",
       "      <td>0.812882</td>\n",
       "      <td>0.728648</td>\n",
       "    </tr>\n",
       "    <tr>\n",
       "      <th>36</th>\n",
       "      <td>Student at Humber College and Aspiring Human Resources Generalist</td>\n",
       "      <td>61</td>\n",
       "      <td>0.980900</td>\n",
       "      <td>0.120240</td>\n",
       "      <td>0.808768</td>\n",
       "      <td>0.728648</td>\n",
       "    </tr>\n",
       "    <tr>\n",
       "      <th>38</th>\n",
       "      <td>Student at Humber College and Aspiring Human Resources Generalist</td>\n",
       "      <td>61</td>\n",
       "      <td>0.971794</td>\n",
       "      <td>0.120240</td>\n",
       "      <td>0.801484</td>\n",
       "      <td>0.728648</td>\n",
       "    </tr>\n",
       "    <tr>\n",
       "      <th>8</th>\n",
       "      <td>Student at Humber College and Aspiring Human Resources Generalist</td>\n",
       "      <td>61</td>\n",
       "      <td>0.975384</td>\n",
       "      <td>0.120240</td>\n",
       "      <td>0.804356</td>\n",
       "      <td>0.728648</td>\n",
       "    </tr>\n",
       "    <tr>\n",
       "      <th>6</th>\n",
       "      <td>Student at Humber College and Aspiring Human Resources Generalist</td>\n",
       "      <td>61</td>\n",
       "      <td>0.985257</td>\n",
       "      <td>0.120240</td>\n",
       "      <td>0.812254</td>\n",
       "      <td>0.728648</td>\n",
       "    </tr>\n",
       "    <tr>\n",
       "      <th>49</th>\n",
       "      <td>Student at Humber College and Aspiring Human Resources Generalist</td>\n",
       "      <td>61</td>\n",
       "      <td>0.987152</td>\n",
       "      <td>0.120240</td>\n",
       "      <td>0.813770</td>\n",
       "      <td>0.728648</td>\n",
       "    </tr>\n",
       "  </tbody>\n",
       "</table>\n",
       "</div>"
      ],
      "text/plain": [
       "                                                                       job_title  \\\n",
       "45                                         Aspiring Human Resources Professional   \n",
       "2                                          Aspiring Human Resources Professional   \n",
       "20                                         Aspiring Human Resources Professional   \n",
       "96                                         Aspiring Human Resources Professional   \n",
       "32                                         Aspiring Human Resources Professional   \n",
       "57                                         Aspiring Human Resources Professional   \n",
       "16                                         Aspiring Human Resources Professional   \n",
       "48                                           Aspiring Human Resources Specialist   \n",
       "5                                            Aspiring Human Resources Specialist   \n",
       "59                                           Aspiring Human Resources Specialist   \n",
       "23                                           Aspiring Human Resources Specialist   \n",
       "35                                           Aspiring Human Resources Specialist   \n",
       "81  Aspiring Human Resources Professional | An energetic and Team-Focused Leader   \n",
       "73                                                  Human Resources Professional   \n",
       "51             Student at Humber College and Aspiring Human Resources Generalist   \n",
       "36             Student at Humber College and Aspiring Human Resources Generalist   \n",
       "38             Student at Humber College and Aspiring Human Resources Generalist   \n",
       "8              Student at Humber College and Aspiring Human Resources Generalist   \n",
       "6              Student at Humber College and Aspiring Human Resources Generalist   \n",
       "49             Student at Humber College and Aspiring Human Resources Generalist   \n",
       "\n",
       "   connection  Doc2Vec_Cosine_Similarity  Scaled_Connection  Doc2Vec_Ranking  \\\n",
       "45         44                   0.987335           0.086172         0.807102   \n",
       "2          44                   0.991057           0.086172         0.810080   \n",
       "20         44                   0.992690           0.086172         0.811386   \n",
       "96         71                   0.990583           0.140281         0.820523   \n",
       "32         44                   0.992645           0.086172         0.811350   \n",
       "57         44                   0.991254           0.086172         0.810238   \n",
       "16         44                   0.980862           0.086172         0.801924   \n",
       "48          1                   0.985467           0.000000         0.788373   \n",
       "5           1                   0.990545           0.000000         0.792436   \n",
       "59          1                   0.990920           0.000000         0.792736   \n",
       "23          1                   0.990798           0.000000         0.792638   \n",
       "35          1                   0.990959           0.000000         0.792767   \n",
       "81        174                   0.984992           0.346693         0.857333   \n",
       "73         16                   0.990839           0.030060         0.798683   \n",
       "51         61                   0.986043           0.120240         0.812882   \n",
       "36         61                   0.980900           0.120240         0.808768   \n",
       "38         61                   0.971794           0.120240         0.801484   \n",
       "8          61                   0.975384           0.120240         0.804356   \n",
       "6          61                   0.985257           0.120240         0.812254   \n",
       "49         61                   0.987152           0.120240         0.813770   \n",
       "\n",
       "    BERT_Cosine_Similarity  \n",
       "45                0.879234  \n",
       "2                 0.879234  \n",
       "20                0.879234  \n",
       "96                0.879234  \n",
       "32                0.879234  \n",
       "57                0.879234  \n",
       "16                0.879234  \n",
       "48                0.864964  \n",
       "5                 0.864964  \n",
       "59                0.864964  \n",
       "23                0.864964  \n",
       "35                0.864964  \n",
       "81                0.775665  \n",
       "73                0.754996  \n",
       "51                0.728648  \n",
       "36                0.728648  \n",
       "38                0.728648  \n",
       "8                 0.728648  \n",
       "6                 0.728648  \n",
       "49                0.728648  "
      ]
     },
     "execution_count": 14,
     "metadata": {},
     "output_type": "execute_result"
    }
   ],
   "source": [
    "# calculate Cosine Similarity between the query and all job titles\n",
    "random.seed(22)\n",
    "docs['BERT_Cosine_Similarity'] = docs.apply((lambda row: cosine_similarity(\n",
    "                                                model.encode(row['job_title']).reshape(1,-1),\n",
    "                                                model.encode(query).reshape(1,-1))[0][0]),axis=1)\n",
    "\n",
    "# sort it    \n",
    "docs.sort_values(by='BERT_Cosine_Similarity', ascending=False).head(20)"
   ]
  },
  {
   "cell_type": "markdown",
   "id": "3af19ca1",
   "metadata": {},
   "source": [
    "BERT tends to perform better than doc2vec when top rankings are job titles including exactly all the keywords."
   ]
  },
  {
   "cell_type": "code",
   "execution_count": 15,
   "id": "cd8ee51b",
   "metadata": {
    "scrolled": true
   },
   "outputs": [
    {
     "data": {
      "text/html": [
       "<div>\n",
       "<style scoped>\n",
       "    .dataframe tbody tr th:only-of-type {\n",
       "        vertical-align: middle;\n",
       "    }\n",
       "\n",
       "    .dataframe tbody tr th {\n",
       "        vertical-align: top;\n",
       "    }\n",
       "\n",
       "    .dataframe thead th {\n",
       "        text-align: right;\n",
       "    }\n",
       "</style>\n",
       "<table border=\"1\" class=\"dataframe\">\n",
       "  <thead>\n",
       "    <tr style=\"text-align: right;\">\n",
       "      <th></th>\n",
       "      <th>job_title</th>\n",
       "      <th>connection</th>\n",
       "      <th>Doc2Vec_Cosine_Similarity</th>\n",
       "      <th>Scaled_Connection</th>\n",
       "      <th>Doc2Vec_Ranking</th>\n",
       "      <th>BERT_Cosine_Similarity</th>\n",
       "      <th>BERT_Ranking</th>\n",
       "    </tr>\n",
       "  </thead>\n",
       "  <tbody>\n",
       "    <tr>\n",
       "      <th>66</th>\n",
       "      <td>Human Resources, Staffing and Recruiting Professional</td>\n",
       "      <td>500</td>\n",
       "      <td>0.993116</td>\n",
       "      <td>1.000000</td>\n",
       "      <td>0.994493</td>\n",
       "      <td>0.697636</td>\n",
       "      <td>0.758108</td>\n",
       "    </tr>\n",
       "    <tr>\n",
       "      <th>96</th>\n",
       "      <td>Aspiring Human Resources Professional</td>\n",
       "      <td>71</td>\n",
       "      <td>0.990583</td>\n",
       "      <td>0.140281</td>\n",
       "      <td>0.820523</td>\n",
       "      <td>0.879234</td>\n",
       "      <td>0.731443</td>\n",
       "    </tr>\n",
       "    <tr>\n",
       "      <th>32</th>\n",
       "      <td>Aspiring Human Resources Professional</td>\n",
       "      <td>44</td>\n",
       "      <td>0.992645</td>\n",
       "      <td>0.086172</td>\n",
       "      <td>0.811350</td>\n",
       "      <td>0.879234</td>\n",
       "      <td>0.720622</td>\n",
       "    </tr>\n",
       "    <tr>\n",
       "      <th>16</th>\n",
       "      <td>Aspiring Human Resources Professional</td>\n",
       "      <td>44</td>\n",
       "      <td>0.980862</td>\n",
       "      <td>0.086172</td>\n",
       "      <td>0.801924</td>\n",
       "      <td>0.879234</td>\n",
       "      <td>0.720622</td>\n",
       "    </tr>\n",
       "    <tr>\n",
       "      <th>20</th>\n",
       "      <td>Aspiring Human Resources Professional</td>\n",
       "      <td>44</td>\n",
       "      <td>0.992690</td>\n",
       "      <td>0.086172</td>\n",
       "      <td>0.811386</td>\n",
       "      <td>0.879234</td>\n",
       "      <td>0.720622</td>\n",
       "    </tr>\n",
       "    <tr>\n",
       "      <th>57</th>\n",
       "      <td>Aspiring Human Resources Professional</td>\n",
       "      <td>44</td>\n",
       "      <td>0.991254</td>\n",
       "      <td>0.086172</td>\n",
       "      <td>0.810238</td>\n",
       "      <td>0.879234</td>\n",
       "      <td>0.720622</td>\n",
       "    </tr>\n",
       "    <tr>\n",
       "      <th>45</th>\n",
       "      <td>Aspiring Human Resources Professional</td>\n",
       "      <td>44</td>\n",
       "      <td>0.987335</td>\n",
       "      <td>0.086172</td>\n",
       "      <td>0.807102</td>\n",
       "      <td>0.879234</td>\n",
       "      <td>0.720622</td>\n",
       "    </tr>\n",
       "    <tr>\n",
       "      <th>2</th>\n",
       "      <td>Aspiring Human Resources Professional</td>\n",
       "      <td>44</td>\n",
       "      <td>0.991057</td>\n",
       "      <td>0.086172</td>\n",
       "      <td>0.810080</td>\n",
       "      <td>0.879234</td>\n",
       "      <td>0.720622</td>\n",
       "    </tr>\n",
       "    <tr>\n",
       "      <th>29</th>\n",
       "      <td>Seeking Human Resources Opportunities</td>\n",
       "      <td>390</td>\n",
       "      <td>0.993370</td>\n",
       "      <td>0.779559</td>\n",
       "      <td>0.950608</td>\n",
       "      <td>0.696302</td>\n",
       "      <td>0.712953</td>\n",
       "    </tr>\n",
       "    <tr>\n",
       "      <th>27</th>\n",
       "      <td>Seeking Human Resources Opportunities</td>\n",
       "      <td>390</td>\n",
       "      <td>0.994370</td>\n",
       "      <td>0.779559</td>\n",
       "      <td>0.951408</td>\n",
       "      <td>0.696302</td>\n",
       "      <td>0.712953</td>\n",
       "    </tr>\n",
       "    <tr>\n",
       "      <th>28</th>\n",
       "      <td>Aspiring Human Resources Management student seeking an internship</td>\n",
       "      <td>500</td>\n",
       "      <td>0.990206</td>\n",
       "      <td>1.000000</td>\n",
       "      <td>0.992165</td>\n",
       "      <td>0.631580</td>\n",
       "      <td>0.705264</td>\n",
       "    </tr>\n",
       "    <tr>\n",
       "      <th>26</th>\n",
       "      <td>Aspiring Human Resources Management student seeking an internship</td>\n",
       "      <td>500</td>\n",
       "      <td>0.993100</td>\n",
       "      <td>1.000000</td>\n",
       "      <td>0.994480</td>\n",
       "      <td>0.631580</td>\n",
       "      <td>0.705264</td>\n",
       "    </tr>\n",
       "    <tr>\n",
       "      <th>35</th>\n",
       "      <td>Aspiring Human Resources Specialist</td>\n",
       "      <td>1</td>\n",
       "      <td>0.990959</td>\n",
       "      <td>0.000000</td>\n",
       "      <td>0.792767</td>\n",
       "      <td>0.864964</td>\n",
       "      <td>0.691971</td>\n",
       "    </tr>\n",
       "    <tr>\n",
       "      <th>5</th>\n",
       "      <td>Aspiring Human Resources Specialist</td>\n",
       "      <td>1</td>\n",
       "      <td>0.990545</td>\n",
       "      <td>0.000000</td>\n",
       "      <td>0.792436</td>\n",
       "      <td>0.864964</td>\n",
       "      <td>0.691971</td>\n",
       "    </tr>\n",
       "    <tr>\n",
       "      <th>59</th>\n",
       "      <td>Aspiring Human Resources Specialist</td>\n",
       "      <td>1</td>\n",
       "      <td>0.990920</td>\n",
       "      <td>0.000000</td>\n",
       "      <td>0.792736</td>\n",
       "      <td>0.864964</td>\n",
       "      <td>0.691971</td>\n",
       "    </tr>\n",
       "    <tr>\n",
       "      <th>48</th>\n",
       "      <td>Aspiring Human Resources Specialist</td>\n",
       "      <td>1</td>\n",
       "      <td>0.985467</td>\n",
       "      <td>0.000000</td>\n",
       "      <td>0.788373</td>\n",
       "      <td>0.864964</td>\n",
       "      <td>0.691971</td>\n",
       "    </tr>\n",
       "    <tr>\n",
       "      <th>23</th>\n",
       "      <td>Aspiring Human Resources Specialist</td>\n",
       "      <td>1</td>\n",
       "      <td>0.990798</td>\n",
       "      <td>0.000000</td>\n",
       "      <td>0.792638</td>\n",
       "      <td>0.864964</td>\n",
       "      <td>0.691971</td>\n",
       "    </tr>\n",
       "    <tr>\n",
       "      <th>81</th>\n",
       "      <td>Aspiring Human Resources Professional | An energetic and Team-Focused Leader</td>\n",
       "      <td>174</td>\n",
       "      <td>0.984992</td>\n",
       "      <td>0.346693</td>\n",
       "      <td>0.857333</td>\n",
       "      <td>0.775665</td>\n",
       "      <td>0.689871</td>\n",
       "    </tr>\n",
       "    <tr>\n",
       "      <th>39</th>\n",
       "      <td>Seeking Human Resources HRIS and Generalist Positions</td>\n",
       "      <td>500</td>\n",
       "      <td>0.991987</td>\n",
       "      <td>1.000000</td>\n",
       "      <td>0.993590</td>\n",
       "      <td>0.591348</td>\n",
       "      <td>0.673078</td>\n",
       "    </tr>\n",
       "    <tr>\n",
       "      <th>52</th>\n",
       "      <td>Seeking Human Resources HRIS and Generalist Positions</td>\n",
       "      <td>500</td>\n",
       "      <td>0.992563</td>\n",
       "      <td>1.000000</td>\n",
       "      <td>0.994051</td>\n",
       "      <td>0.591348</td>\n",
       "      <td>0.673078</td>\n",
       "    </tr>\n",
       "  </tbody>\n",
       "</table>\n",
       "</div>"
      ],
      "text/plain": [
       "                                                                       job_title  \\\n",
       "66                         Human Resources, Staffing and Recruiting Professional   \n",
       "96                                         Aspiring Human Resources Professional   \n",
       "32                                         Aspiring Human Resources Professional   \n",
       "16                                         Aspiring Human Resources Professional   \n",
       "20                                         Aspiring Human Resources Professional   \n",
       "57                                         Aspiring Human Resources Professional   \n",
       "45                                         Aspiring Human Resources Professional   \n",
       "2                                          Aspiring Human Resources Professional   \n",
       "29                                         Seeking Human Resources Opportunities   \n",
       "27                                         Seeking Human Resources Opportunities   \n",
       "28             Aspiring Human Resources Management student seeking an internship   \n",
       "26             Aspiring Human Resources Management student seeking an internship   \n",
       "35                                           Aspiring Human Resources Specialist   \n",
       "5                                            Aspiring Human Resources Specialist   \n",
       "59                                           Aspiring Human Resources Specialist   \n",
       "48                                           Aspiring Human Resources Specialist   \n",
       "23                                           Aspiring Human Resources Specialist   \n",
       "81  Aspiring Human Resources Professional | An energetic and Team-Focused Leader   \n",
       "39                         Seeking Human Resources HRIS and Generalist Positions   \n",
       "52                         Seeking Human Resources HRIS and Generalist Positions   \n",
       "\n",
       "   connection  Doc2Vec_Cosine_Similarity  Scaled_Connection  Doc2Vec_Ranking  \\\n",
       "66        500                   0.993116           1.000000         0.994493   \n",
       "96         71                   0.990583           0.140281         0.820523   \n",
       "32         44                   0.992645           0.086172         0.811350   \n",
       "16         44                   0.980862           0.086172         0.801924   \n",
       "20         44                   0.992690           0.086172         0.811386   \n",
       "57         44                   0.991254           0.086172         0.810238   \n",
       "45         44                   0.987335           0.086172         0.807102   \n",
       "2          44                   0.991057           0.086172         0.810080   \n",
       "29        390                   0.993370           0.779559         0.950608   \n",
       "27        390                   0.994370           0.779559         0.951408   \n",
       "28        500                   0.990206           1.000000         0.992165   \n",
       "26        500                   0.993100           1.000000         0.994480   \n",
       "35          1                   0.990959           0.000000         0.792767   \n",
       "5           1                   0.990545           0.000000         0.792436   \n",
       "59          1                   0.990920           0.000000         0.792736   \n",
       "48          1                   0.985467           0.000000         0.788373   \n",
       "23          1                   0.990798           0.000000         0.792638   \n",
       "81        174                   0.984992           0.346693         0.857333   \n",
       "39        500                   0.991987           1.000000         0.993590   \n",
       "52        500                   0.992563           1.000000         0.994051   \n",
       "\n",
       "    BERT_Cosine_Similarity  BERT_Ranking  \n",
       "66                0.697636      0.758108  \n",
       "96                0.879234      0.731443  \n",
       "32                0.879234      0.720622  \n",
       "16                0.879234      0.720622  \n",
       "20                0.879234      0.720622  \n",
       "57                0.879234      0.720622  \n",
       "45                0.879234      0.720622  \n",
       "2                 0.879234      0.720622  \n",
       "29                0.696302      0.712953  \n",
       "27                0.696302      0.712953  \n",
       "28                0.631580      0.705264  \n",
       "26                0.631580      0.705264  \n",
       "35                0.864964      0.691971  \n",
       "5                 0.864964      0.691971  \n",
       "59                0.864964      0.691971  \n",
       "48                0.864964      0.691971  \n",
       "23                0.864964      0.691971  \n",
       "81                0.775665      0.689871  \n",
       "39                0.591348      0.673078  \n",
       "52                0.591348      0.673078  "
      ]
     },
     "execution_count": 15,
     "metadata": {},
     "output_type": "execute_result"
    }
   ],
   "source": [
    "# calculate ranking by weighted sum of cosine_similarity and scaled_connection\n",
    "docs['BERT_Ranking']=docs['BERT_Cosine_Similarity']*0.8 + docs['Scaled_Connection']*0.2\n",
    "\n",
    "# sort ranking\n",
    "docs.sort_values(by='BERT_Ranking', ascending=False).head(20)"
   ]
  },
  {
   "cell_type": "markdown",
   "id": "f6f5bbba",
   "metadata": {},
   "source": [
    "# ELMo <a class=\"anchor\" id=\"elmo\"></a>"
   ]
  },
  {
   "cell_type": "code",
   "execution_count": 16,
   "id": "bceee85e",
   "metadata": {
    "scrolled": true
   },
   "outputs": [
    {
     "name": "stdout",
     "output_type": "stream",
     "text": [
      "INFO:tensorflow:Saver not created because there are no variables in the graph to restore\n"
     ]
    },
    {
     "name": "stderr",
     "output_type": "stream",
     "text": [
      "INFO:tensorflow:Saver not created because there are no variables in the graph to restore\n",
      "2023-09-11 21:54:10.144017: I tensorflow/core/platform/cpu_feature_guard.cc:151] This TensorFlow binary is optimized with oneAPI Deep Neural Network Library (oneDNN) to use the following CPU instructions in performance-critical operations:  SSE4.1 SSE4.2\n",
      "To enable them in other operations, rebuild TensorFlow with the appropriate compiler flags.\n"
     ]
    },
    {
     "name": "stdout",
     "output_type": "stream",
     "text": [
      "Embedding for the query:  [[-0.05690157 -0.08409429 -0.21298319 ...  0.20266978  0.16399087\n",
      "  -0.24327344]]\n",
      "INFO:tensorflow:Saver not created because there are no variables in the graph to restore\n"
     ]
    },
    {
     "name": "stderr",
     "output_type": "stream",
     "text": [
      "INFO:tensorflow:Saver not created because there are no variables in the graph to restore\n"
     ]
    },
    {
     "name": "stdout",
     "output_type": "stream",
     "text": [
      "\n",
      "Embedding vector shape (1, 1024)\n"
     ]
    }
   ],
   "source": [
    "elmo = hub.Module(\"https://tfhub.dev/google/elmo/3\", trainable=True)\n",
    "\n",
    "def create_elmo_embeddings(x):\n",
    "  embeddings = elmo([x], signature=\"default\", as_dict=True)[\"elmo\"]\n",
    "  with tf.compat.v1.Session() as sess:\n",
    "    sess.run(tf.compat.v1.global_variables_initializer())\n",
    "    sess.run(tf.compat.v1.tables_initializer())\n",
    "    # return average of ELMo features\n",
    "    return sess.run(tf.reduce_mean(embeddings,1))\n",
    "\n",
    "# sanity check\n",
    "print('Embedding for the query: ', create_elmo_embeddings(query))\n",
    "print('\\nEmbedding vector shape', create_elmo_embeddings(query).shape)      "
   ]
  },
  {
   "cell_type": "code",
   "execution_count": 17,
   "id": "450ef654",
   "metadata": {},
   "outputs": [
    {
     "name": "stdout",
     "output_type": "stream",
     "text": [
      "INFO:tensorflow:Saver not created because there are no variables in the graph to restore\n"
     ]
    },
    {
     "name": "stderr",
     "output_type": "stream",
     "text": [
      "INFO:tensorflow:Saver not created because there are no variables in the graph to restore\n"
     ]
    },
    {
     "name": "stdout",
     "output_type": "stream",
     "text": [
      "INFO:tensorflow:Saver not created because there are no variables in the graph to restore\n"
     ]
    },
    {
     "name": "stderr",
     "output_type": "stream",
     "text": [
      "INFO:tensorflow:Saver not created because there are no variables in the graph to restore\n"
     ]
    },
    {
     "name": "stdout",
     "output_type": "stream",
     "text": [
      "INFO:tensorflow:Saver not created because there are no variables in the graph to restore\n"
     ]
    },
    {
     "name": "stderr",
     "output_type": "stream",
     "text": [
      "INFO:tensorflow:Saver not created because there are no variables in the graph to restore\n"
     ]
    },
    {
     "name": "stdout",
     "output_type": "stream",
     "text": [
      "INFO:tensorflow:Saver not created because there are no variables in the graph to restore\n"
     ]
    },
    {
     "name": "stderr",
     "output_type": "stream",
     "text": [
      "INFO:tensorflow:Saver not created because there are no variables in the graph to restore\n"
     ]
    },
    {
     "name": "stdout",
     "output_type": "stream",
     "text": [
      "INFO:tensorflow:Saver not created because there are no variables in the graph to restore\n"
     ]
    },
    {
     "name": "stderr",
     "output_type": "stream",
     "text": [
      "INFO:tensorflow:Saver not created because there are no variables in the graph to restore\n"
     ]
    },
    {
     "name": "stdout",
     "output_type": "stream",
     "text": [
      "INFO:tensorflow:Saver not created because there are no variables in the graph to restore\n"
     ]
    },
    {
     "name": "stderr",
     "output_type": "stream",
     "text": [
      "INFO:tensorflow:Saver not created because there are no variables in the graph to restore\n"
     ]
    },
    {
     "name": "stdout",
     "output_type": "stream",
     "text": [
      "INFO:tensorflow:Saver not created because there are no variables in the graph to restore\n"
     ]
    },
    {
     "name": "stderr",
     "output_type": "stream",
     "text": [
      "INFO:tensorflow:Saver not created because there are no variables in the graph to restore\n"
     ]
    },
    {
     "name": "stdout",
     "output_type": "stream",
     "text": [
      "INFO:tensorflow:Saver not created because there are no variables in the graph to restore\n"
     ]
    },
    {
     "name": "stderr",
     "output_type": "stream",
     "text": [
      "INFO:tensorflow:Saver not created because there are no variables in the graph to restore\n"
     ]
    },
    {
     "name": "stdout",
     "output_type": "stream",
     "text": [
      "INFO:tensorflow:Saver not created because there are no variables in the graph to restore\n"
     ]
    },
    {
     "name": "stderr",
     "output_type": "stream",
     "text": [
      "INFO:tensorflow:Saver not created because there are no variables in the graph to restore\n"
     ]
    },
    {
     "name": "stdout",
     "output_type": "stream",
     "text": [
      "INFO:tensorflow:Saver not created because there are no variables in the graph to restore\n"
     ]
    },
    {
     "name": "stderr",
     "output_type": "stream",
     "text": [
      "INFO:tensorflow:Saver not created because there are no variables in the graph to restore\n"
     ]
    },
    {
     "name": "stdout",
     "output_type": "stream",
     "text": [
      "INFO:tensorflow:Saver not created because there are no variables in the graph to restore\n"
     ]
    },
    {
     "name": "stderr",
     "output_type": "stream",
     "text": [
      "INFO:tensorflow:Saver not created because there are no variables in the graph to restore\n"
     ]
    },
    {
     "name": "stdout",
     "output_type": "stream",
     "text": [
      "INFO:tensorflow:Saver not created because there are no variables in the graph to restore\n"
     ]
    },
    {
     "name": "stderr",
     "output_type": "stream",
     "text": [
      "INFO:tensorflow:Saver not created because there are no variables in the graph to restore\n"
     ]
    },
    {
     "name": "stdout",
     "output_type": "stream",
     "text": [
      "INFO:tensorflow:Saver not created because there are no variables in the graph to restore\n"
     ]
    },
    {
     "name": "stderr",
     "output_type": "stream",
     "text": [
      "INFO:tensorflow:Saver not created because there are no variables in the graph to restore\n"
     ]
    },
    {
     "name": "stdout",
     "output_type": "stream",
     "text": [
      "INFO:tensorflow:Saver not created because there are no variables in the graph to restore\n"
     ]
    },
    {
     "name": "stderr",
     "output_type": "stream",
     "text": [
      "INFO:tensorflow:Saver not created because there are no variables in the graph to restore\n"
     ]
    },
    {
     "name": "stdout",
     "output_type": "stream",
     "text": [
      "INFO:tensorflow:Saver not created because there are no variables in the graph to restore\n"
     ]
    },
    {
     "name": "stderr",
     "output_type": "stream",
     "text": [
      "INFO:tensorflow:Saver not created because there are no variables in the graph to restore\n"
     ]
    },
    {
     "name": "stdout",
     "output_type": "stream",
     "text": [
      "INFO:tensorflow:Saver not created because there are no variables in the graph to restore\n"
     ]
    },
    {
     "name": "stderr",
     "output_type": "stream",
     "text": [
      "INFO:tensorflow:Saver not created because there are no variables in the graph to restore\n"
     ]
    },
    {
     "name": "stdout",
     "output_type": "stream",
     "text": [
      "INFO:tensorflow:Saver not created because there are no variables in the graph to restore\n"
     ]
    },
    {
     "name": "stderr",
     "output_type": "stream",
     "text": [
      "INFO:tensorflow:Saver not created because there are no variables in the graph to restore\n"
     ]
    },
    {
     "name": "stdout",
     "output_type": "stream",
     "text": [
      "INFO:tensorflow:Saver not created because there are no variables in the graph to restore\n"
     ]
    },
    {
     "name": "stderr",
     "output_type": "stream",
     "text": [
      "INFO:tensorflow:Saver not created because there are no variables in the graph to restore\n"
     ]
    },
    {
     "name": "stdout",
     "output_type": "stream",
     "text": [
      "INFO:tensorflow:Saver not created because there are no variables in the graph to restore\n"
     ]
    },
    {
     "name": "stderr",
     "output_type": "stream",
     "text": [
      "INFO:tensorflow:Saver not created because there are no variables in the graph to restore\n"
     ]
    },
    {
     "name": "stdout",
     "output_type": "stream",
     "text": [
      "INFO:tensorflow:Saver not created because there are no variables in the graph to restore\n"
     ]
    },
    {
     "name": "stderr",
     "output_type": "stream",
     "text": [
      "INFO:tensorflow:Saver not created because there are no variables in the graph to restore\n"
     ]
    },
    {
     "name": "stdout",
     "output_type": "stream",
     "text": [
      "INFO:tensorflow:Saver not created because there are no variables in the graph to restore\n"
     ]
    },
    {
     "name": "stderr",
     "output_type": "stream",
     "text": [
      "INFO:tensorflow:Saver not created because there are no variables in the graph to restore\n"
     ]
    },
    {
     "name": "stdout",
     "output_type": "stream",
     "text": [
      "INFO:tensorflow:Saver not created because there are no variables in the graph to restore\n"
     ]
    },
    {
     "name": "stderr",
     "output_type": "stream",
     "text": [
      "INFO:tensorflow:Saver not created because there are no variables in the graph to restore\n"
     ]
    },
    {
     "name": "stdout",
     "output_type": "stream",
     "text": [
      "INFO:tensorflow:Saver not created because there are no variables in the graph to restore\n"
     ]
    },
    {
     "name": "stderr",
     "output_type": "stream",
     "text": [
      "INFO:tensorflow:Saver not created because there are no variables in the graph to restore\n"
     ]
    },
    {
     "name": "stdout",
     "output_type": "stream",
     "text": [
      "INFO:tensorflow:Saver not created because there are no variables in the graph to restore\n"
     ]
    },
    {
     "name": "stderr",
     "output_type": "stream",
     "text": [
      "INFO:tensorflow:Saver not created because there are no variables in the graph to restore\n"
     ]
    },
    {
     "name": "stdout",
     "output_type": "stream",
     "text": [
      "INFO:tensorflow:Saver not created because there are no variables in the graph to restore\n"
     ]
    },
    {
     "name": "stderr",
     "output_type": "stream",
     "text": [
      "INFO:tensorflow:Saver not created because there are no variables in the graph to restore\n"
     ]
    },
    {
     "name": "stdout",
     "output_type": "stream",
     "text": [
      "INFO:tensorflow:Saver not created because there are no variables in the graph to restore\n"
     ]
    },
    {
     "name": "stderr",
     "output_type": "stream",
     "text": [
      "INFO:tensorflow:Saver not created because there are no variables in the graph to restore\n"
     ]
    },
    {
     "name": "stdout",
     "output_type": "stream",
     "text": [
      "INFO:tensorflow:Saver not created because there are no variables in the graph to restore\n"
     ]
    },
    {
     "name": "stderr",
     "output_type": "stream",
     "text": [
      "INFO:tensorflow:Saver not created because there are no variables in the graph to restore\n"
     ]
    },
    {
     "name": "stdout",
     "output_type": "stream",
     "text": [
      "INFO:tensorflow:Saver not created because there are no variables in the graph to restore\n"
     ]
    },
    {
     "name": "stderr",
     "output_type": "stream",
     "text": [
      "INFO:tensorflow:Saver not created because there are no variables in the graph to restore\n"
     ]
    },
    {
     "name": "stdout",
     "output_type": "stream",
     "text": [
      "INFO:tensorflow:Saver not created because there are no variables in the graph to restore\n"
     ]
    },
    {
     "name": "stderr",
     "output_type": "stream",
     "text": [
      "INFO:tensorflow:Saver not created because there are no variables in the graph to restore\n"
     ]
    },
    {
     "name": "stdout",
     "output_type": "stream",
     "text": [
      "INFO:tensorflow:Saver not created because there are no variables in the graph to restore\n"
     ]
    },
    {
     "name": "stderr",
     "output_type": "stream",
     "text": [
      "INFO:tensorflow:Saver not created because there are no variables in the graph to restore\n"
     ]
    },
    {
     "name": "stdout",
     "output_type": "stream",
     "text": [
      "INFO:tensorflow:Saver not created because there are no variables in the graph to restore\n"
     ]
    },
    {
     "name": "stderr",
     "output_type": "stream",
     "text": [
      "INFO:tensorflow:Saver not created because there are no variables in the graph to restore\n"
     ]
    },
    {
     "name": "stdout",
     "output_type": "stream",
     "text": [
      "INFO:tensorflow:Saver not created because there are no variables in the graph to restore\n"
     ]
    },
    {
     "name": "stderr",
     "output_type": "stream",
     "text": [
      "INFO:tensorflow:Saver not created because there are no variables in the graph to restore\n"
     ]
    },
    {
     "name": "stdout",
     "output_type": "stream",
     "text": [
      "INFO:tensorflow:Saver not created because there are no variables in the graph to restore\n"
     ]
    },
    {
     "name": "stderr",
     "output_type": "stream",
     "text": [
      "INFO:tensorflow:Saver not created because there are no variables in the graph to restore\n"
     ]
    },
    {
     "name": "stdout",
     "output_type": "stream",
     "text": [
      "INFO:tensorflow:Saver not created because there are no variables in the graph to restore\n"
     ]
    },
    {
     "name": "stderr",
     "output_type": "stream",
     "text": [
      "INFO:tensorflow:Saver not created because there are no variables in the graph to restore\n"
     ]
    },
    {
     "name": "stdout",
     "output_type": "stream",
     "text": [
      "INFO:tensorflow:Saver not created because there are no variables in the graph to restore\n"
     ]
    },
    {
     "name": "stderr",
     "output_type": "stream",
     "text": [
      "INFO:tensorflow:Saver not created because there are no variables in the graph to restore\n"
     ]
    },
    {
     "name": "stdout",
     "output_type": "stream",
     "text": [
      "INFO:tensorflow:Saver not created because there are no variables in the graph to restore\n"
     ]
    },
    {
     "name": "stderr",
     "output_type": "stream",
     "text": [
      "INFO:tensorflow:Saver not created because there are no variables in the graph to restore\n"
     ]
    },
    {
     "name": "stdout",
     "output_type": "stream",
     "text": [
      "INFO:tensorflow:Saver not created because there are no variables in the graph to restore\n"
     ]
    },
    {
     "name": "stderr",
     "output_type": "stream",
     "text": [
      "INFO:tensorflow:Saver not created because there are no variables in the graph to restore\n"
     ]
    },
    {
     "name": "stdout",
     "output_type": "stream",
     "text": [
      "INFO:tensorflow:Saver not created because there are no variables in the graph to restore\n"
     ]
    },
    {
     "name": "stderr",
     "output_type": "stream",
     "text": [
      "INFO:tensorflow:Saver not created because there are no variables in the graph to restore\n"
     ]
    },
    {
     "name": "stdout",
     "output_type": "stream",
     "text": [
      "INFO:tensorflow:Saver not created because there are no variables in the graph to restore\n"
     ]
    },
    {
     "name": "stderr",
     "output_type": "stream",
     "text": [
      "INFO:tensorflow:Saver not created because there are no variables in the graph to restore\n"
     ]
    },
    {
     "name": "stdout",
     "output_type": "stream",
     "text": [
      "INFO:tensorflow:Saver not created because there are no variables in the graph to restore\n"
     ]
    },
    {
     "name": "stderr",
     "output_type": "stream",
     "text": [
      "INFO:tensorflow:Saver not created because there are no variables in the graph to restore\n"
     ]
    },
    {
     "name": "stdout",
     "output_type": "stream",
     "text": [
      "INFO:tensorflow:Saver not created because there are no variables in the graph to restore\n"
     ]
    },
    {
     "name": "stderr",
     "output_type": "stream",
     "text": [
      "INFO:tensorflow:Saver not created because there are no variables in the graph to restore\n"
     ]
    },
    {
     "name": "stdout",
     "output_type": "stream",
     "text": [
      "INFO:tensorflow:Saver not created because there are no variables in the graph to restore\n"
     ]
    },
    {
     "name": "stderr",
     "output_type": "stream",
     "text": [
      "INFO:tensorflow:Saver not created because there are no variables in the graph to restore\n"
     ]
    },
    {
     "name": "stdout",
     "output_type": "stream",
     "text": [
      "INFO:tensorflow:Saver not created because there are no variables in the graph to restore\n"
     ]
    },
    {
     "name": "stderr",
     "output_type": "stream",
     "text": [
      "INFO:tensorflow:Saver not created because there are no variables in the graph to restore\n"
     ]
    },
    {
     "name": "stdout",
     "output_type": "stream",
     "text": [
      "INFO:tensorflow:Saver not created because there are no variables in the graph to restore\n"
     ]
    },
    {
     "name": "stderr",
     "output_type": "stream",
     "text": [
      "INFO:tensorflow:Saver not created because there are no variables in the graph to restore\n"
     ]
    },
    {
     "name": "stdout",
     "output_type": "stream",
     "text": [
      "INFO:tensorflow:Saver not created because there are no variables in the graph to restore\n"
     ]
    },
    {
     "name": "stderr",
     "output_type": "stream",
     "text": [
      "INFO:tensorflow:Saver not created because there are no variables in the graph to restore\n"
     ]
    },
    {
     "name": "stdout",
     "output_type": "stream",
     "text": [
      "INFO:tensorflow:Saver not created because there are no variables in the graph to restore\n"
     ]
    },
    {
     "name": "stderr",
     "output_type": "stream",
     "text": [
      "INFO:tensorflow:Saver not created because there are no variables in the graph to restore\n"
     ]
    },
    {
     "name": "stdout",
     "output_type": "stream",
     "text": [
      "INFO:tensorflow:Saver not created because there are no variables in the graph to restore\n"
     ]
    },
    {
     "name": "stderr",
     "output_type": "stream",
     "text": [
      "INFO:tensorflow:Saver not created because there are no variables in the graph to restore\n"
     ]
    },
    {
     "name": "stdout",
     "output_type": "stream",
     "text": [
      "INFO:tensorflow:Saver not created because there are no variables in the graph to restore\n"
     ]
    },
    {
     "name": "stderr",
     "output_type": "stream",
     "text": [
      "INFO:tensorflow:Saver not created because there are no variables in the graph to restore\n"
     ]
    },
    {
     "name": "stdout",
     "output_type": "stream",
     "text": [
      "INFO:tensorflow:Saver not created because there are no variables in the graph to restore\n"
     ]
    },
    {
     "name": "stderr",
     "output_type": "stream",
     "text": [
      "INFO:tensorflow:Saver not created because there are no variables in the graph to restore\n"
     ]
    },
    {
     "name": "stdout",
     "output_type": "stream",
     "text": [
      "INFO:tensorflow:Saver not created because there are no variables in the graph to restore\n"
     ]
    },
    {
     "name": "stderr",
     "output_type": "stream",
     "text": [
      "INFO:tensorflow:Saver not created because there are no variables in the graph to restore\n"
     ]
    },
    {
     "name": "stdout",
     "output_type": "stream",
     "text": [
      "INFO:tensorflow:Saver not created because there are no variables in the graph to restore\n"
     ]
    },
    {
     "name": "stderr",
     "output_type": "stream",
     "text": [
      "INFO:tensorflow:Saver not created because there are no variables in the graph to restore\n"
     ]
    },
    {
     "name": "stdout",
     "output_type": "stream",
     "text": [
      "INFO:tensorflow:Saver not created because there are no variables in the graph to restore\n"
     ]
    },
    {
     "name": "stderr",
     "output_type": "stream",
     "text": [
      "INFO:tensorflow:Saver not created because there are no variables in the graph to restore\n"
     ]
    },
    {
     "name": "stdout",
     "output_type": "stream",
     "text": [
      "INFO:tensorflow:Saver not created because there are no variables in the graph to restore\n"
     ]
    },
    {
     "name": "stderr",
     "output_type": "stream",
     "text": [
      "INFO:tensorflow:Saver not created because there are no variables in the graph to restore\n"
     ]
    },
    {
     "name": "stdout",
     "output_type": "stream",
     "text": [
      "INFO:tensorflow:Saver not created because there are no variables in the graph to restore\n"
     ]
    },
    {
     "name": "stderr",
     "output_type": "stream",
     "text": [
      "INFO:tensorflow:Saver not created because there are no variables in the graph to restore\n"
     ]
    },
    {
     "name": "stdout",
     "output_type": "stream",
     "text": [
      "INFO:tensorflow:Saver not created because there are no variables in the graph to restore\n"
     ]
    },
    {
     "name": "stderr",
     "output_type": "stream",
     "text": [
      "INFO:tensorflow:Saver not created because there are no variables in the graph to restore\n"
     ]
    },
    {
     "name": "stdout",
     "output_type": "stream",
     "text": [
      "INFO:tensorflow:Saver not created because there are no variables in the graph to restore\n"
     ]
    },
    {
     "name": "stderr",
     "output_type": "stream",
     "text": [
      "INFO:tensorflow:Saver not created because there are no variables in the graph to restore\n"
     ]
    },
    {
     "name": "stdout",
     "output_type": "stream",
     "text": [
      "INFO:tensorflow:Saver not created because there are no variables in the graph to restore\n"
     ]
    },
    {
     "name": "stderr",
     "output_type": "stream",
     "text": [
      "INFO:tensorflow:Saver not created because there are no variables in the graph to restore\n"
     ]
    },
    {
     "name": "stdout",
     "output_type": "stream",
     "text": [
      "INFO:tensorflow:Saver not created because there are no variables in the graph to restore\n"
     ]
    },
    {
     "name": "stderr",
     "output_type": "stream",
     "text": [
      "INFO:tensorflow:Saver not created because there are no variables in the graph to restore\n"
     ]
    },
    {
     "name": "stdout",
     "output_type": "stream",
     "text": [
      "INFO:tensorflow:Saver not created because there are no variables in the graph to restore\n"
     ]
    },
    {
     "name": "stderr",
     "output_type": "stream",
     "text": [
      "INFO:tensorflow:Saver not created because there are no variables in the graph to restore\n"
     ]
    },
    {
     "name": "stdout",
     "output_type": "stream",
     "text": [
      "INFO:tensorflow:Saver not created because there are no variables in the graph to restore\n"
     ]
    },
    {
     "name": "stderr",
     "output_type": "stream",
     "text": [
      "INFO:tensorflow:Saver not created because there are no variables in the graph to restore\n"
     ]
    },
    {
     "name": "stdout",
     "output_type": "stream",
     "text": [
      "INFO:tensorflow:Saver not created because there are no variables in the graph to restore\n"
     ]
    },
    {
     "name": "stderr",
     "output_type": "stream",
     "text": [
      "INFO:tensorflow:Saver not created because there are no variables in the graph to restore\n"
     ]
    },
    {
     "name": "stdout",
     "output_type": "stream",
     "text": [
      "INFO:tensorflow:Saver not created because there are no variables in the graph to restore\n"
     ]
    },
    {
     "name": "stderr",
     "output_type": "stream",
     "text": [
      "INFO:tensorflow:Saver not created because there are no variables in the graph to restore\n"
     ]
    },
    {
     "name": "stdout",
     "output_type": "stream",
     "text": [
      "INFO:tensorflow:Saver not created because there are no variables in the graph to restore\n"
     ]
    },
    {
     "name": "stderr",
     "output_type": "stream",
     "text": [
      "INFO:tensorflow:Saver not created because there are no variables in the graph to restore\n"
     ]
    },
    {
     "name": "stdout",
     "output_type": "stream",
     "text": [
      "INFO:tensorflow:Saver not created because there are no variables in the graph to restore\n"
     ]
    },
    {
     "name": "stderr",
     "output_type": "stream",
     "text": [
      "INFO:tensorflow:Saver not created because there are no variables in the graph to restore\n"
     ]
    },
    {
     "name": "stdout",
     "output_type": "stream",
     "text": [
      "INFO:tensorflow:Saver not created because there are no variables in the graph to restore\n"
     ]
    },
    {
     "name": "stderr",
     "output_type": "stream",
     "text": [
      "INFO:tensorflow:Saver not created because there are no variables in the graph to restore\n"
     ]
    },
    {
     "name": "stdout",
     "output_type": "stream",
     "text": [
      "INFO:tensorflow:Saver not created because there are no variables in the graph to restore\n"
     ]
    },
    {
     "name": "stderr",
     "output_type": "stream",
     "text": [
      "INFO:tensorflow:Saver not created because there are no variables in the graph to restore\n"
     ]
    },
    {
     "name": "stdout",
     "output_type": "stream",
     "text": [
      "INFO:tensorflow:Saver not created because there are no variables in the graph to restore\n"
     ]
    },
    {
     "name": "stderr",
     "output_type": "stream",
     "text": [
      "INFO:tensorflow:Saver not created because there are no variables in the graph to restore\n"
     ]
    },
    {
     "name": "stdout",
     "output_type": "stream",
     "text": [
      "INFO:tensorflow:Saver not created because there are no variables in the graph to restore\n"
     ]
    },
    {
     "name": "stderr",
     "output_type": "stream",
     "text": [
      "INFO:tensorflow:Saver not created because there are no variables in the graph to restore\n"
     ]
    },
    {
     "name": "stdout",
     "output_type": "stream",
     "text": [
      "INFO:tensorflow:Saver not created because there are no variables in the graph to restore\n"
     ]
    },
    {
     "name": "stderr",
     "output_type": "stream",
     "text": [
      "INFO:tensorflow:Saver not created because there are no variables in the graph to restore\n"
     ]
    },
    {
     "name": "stdout",
     "output_type": "stream",
     "text": [
      "INFO:tensorflow:Saver not created because there are no variables in the graph to restore\n"
     ]
    },
    {
     "name": "stderr",
     "output_type": "stream",
     "text": [
      "INFO:tensorflow:Saver not created because there are no variables in the graph to restore\n"
     ]
    },
    {
     "name": "stdout",
     "output_type": "stream",
     "text": [
      "INFO:tensorflow:Saver not created because there are no variables in the graph to restore\n"
     ]
    },
    {
     "name": "stderr",
     "output_type": "stream",
     "text": [
      "INFO:tensorflow:Saver not created because there are no variables in the graph to restore\n"
     ]
    },
    {
     "name": "stdout",
     "output_type": "stream",
     "text": [
      "INFO:tensorflow:Saver not created because there are no variables in the graph to restore\n"
     ]
    },
    {
     "name": "stderr",
     "output_type": "stream",
     "text": [
      "INFO:tensorflow:Saver not created because there are no variables in the graph to restore\n"
     ]
    },
    {
     "name": "stdout",
     "output_type": "stream",
     "text": [
      "INFO:tensorflow:Saver not created because there are no variables in the graph to restore\n"
     ]
    },
    {
     "name": "stderr",
     "output_type": "stream",
     "text": [
      "INFO:tensorflow:Saver not created because there are no variables in the graph to restore\n"
     ]
    },
    {
     "name": "stdout",
     "output_type": "stream",
     "text": [
      "INFO:tensorflow:Saver not created because there are no variables in the graph to restore\n"
     ]
    },
    {
     "name": "stderr",
     "output_type": "stream",
     "text": [
      "INFO:tensorflow:Saver not created because there are no variables in the graph to restore\n"
     ]
    },
    {
     "name": "stdout",
     "output_type": "stream",
     "text": [
      "INFO:tensorflow:Saver not created because there are no variables in the graph to restore\n"
     ]
    },
    {
     "name": "stderr",
     "output_type": "stream",
     "text": [
      "INFO:tensorflow:Saver not created because there are no variables in the graph to restore\n"
     ]
    },
    {
     "name": "stdout",
     "output_type": "stream",
     "text": [
      "INFO:tensorflow:Saver not created because there are no variables in the graph to restore\n"
     ]
    },
    {
     "name": "stderr",
     "output_type": "stream",
     "text": [
      "INFO:tensorflow:Saver not created because there are no variables in the graph to restore\n"
     ]
    },
    {
     "name": "stdout",
     "output_type": "stream",
     "text": [
      "INFO:tensorflow:Saver not created because there are no variables in the graph to restore\n"
     ]
    },
    {
     "name": "stderr",
     "output_type": "stream",
     "text": [
      "INFO:tensorflow:Saver not created because there are no variables in the graph to restore\n"
     ]
    },
    {
     "name": "stdout",
     "output_type": "stream",
     "text": [
      "INFO:tensorflow:Saver not created because there are no variables in the graph to restore\n"
     ]
    },
    {
     "name": "stderr",
     "output_type": "stream",
     "text": [
      "INFO:tensorflow:Saver not created because there are no variables in the graph to restore\n"
     ]
    },
    {
     "name": "stdout",
     "output_type": "stream",
     "text": [
      "INFO:tensorflow:Saver not created because there are no variables in the graph to restore\n"
     ]
    },
    {
     "name": "stderr",
     "output_type": "stream",
     "text": [
      "INFO:tensorflow:Saver not created because there are no variables in the graph to restore\n"
     ]
    },
    {
     "name": "stdout",
     "output_type": "stream",
     "text": [
      "INFO:tensorflow:Saver not created because there are no variables in the graph to restore\n"
     ]
    },
    {
     "name": "stderr",
     "output_type": "stream",
     "text": [
      "INFO:tensorflow:Saver not created because there are no variables in the graph to restore\n"
     ]
    },
    {
     "name": "stdout",
     "output_type": "stream",
     "text": [
      "INFO:tensorflow:Saver not created because there are no variables in the graph to restore\n"
     ]
    },
    {
     "name": "stderr",
     "output_type": "stream",
     "text": [
      "INFO:tensorflow:Saver not created because there are no variables in the graph to restore\n"
     ]
    },
    {
     "name": "stdout",
     "output_type": "stream",
     "text": [
      "INFO:tensorflow:Saver not created because there are no variables in the graph to restore\n"
     ]
    },
    {
     "name": "stderr",
     "output_type": "stream",
     "text": [
      "INFO:tensorflow:Saver not created because there are no variables in the graph to restore\n"
     ]
    },
    {
     "name": "stdout",
     "output_type": "stream",
     "text": [
      "INFO:tensorflow:Saver not created because there are no variables in the graph to restore\n"
     ]
    },
    {
     "name": "stderr",
     "output_type": "stream",
     "text": [
      "INFO:tensorflow:Saver not created because there are no variables in the graph to restore\n"
     ]
    },
    {
     "name": "stdout",
     "output_type": "stream",
     "text": [
      "INFO:tensorflow:Saver not created because there are no variables in the graph to restore\n"
     ]
    },
    {
     "name": "stderr",
     "output_type": "stream",
     "text": [
      "INFO:tensorflow:Saver not created because there are no variables in the graph to restore\n"
     ]
    },
    {
     "name": "stdout",
     "output_type": "stream",
     "text": [
      "INFO:tensorflow:Saver not created because there are no variables in the graph to restore\n"
     ]
    },
    {
     "name": "stderr",
     "output_type": "stream",
     "text": [
      "INFO:tensorflow:Saver not created because there are no variables in the graph to restore\n"
     ]
    },
    {
     "name": "stdout",
     "output_type": "stream",
     "text": [
      "INFO:tensorflow:Saver not created because there are no variables in the graph to restore\n"
     ]
    },
    {
     "name": "stderr",
     "output_type": "stream",
     "text": [
      "INFO:tensorflow:Saver not created because there are no variables in the graph to restore\n"
     ]
    },
    {
     "name": "stdout",
     "output_type": "stream",
     "text": [
      "INFO:tensorflow:Saver not created because there are no variables in the graph to restore\n"
     ]
    },
    {
     "name": "stderr",
     "output_type": "stream",
     "text": [
      "INFO:tensorflow:Saver not created because there are no variables in the graph to restore\n"
     ]
    },
    {
     "name": "stdout",
     "output_type": "stream",
     "text": [
      "INFO:tensorflow:Saver not created because there are no variables in the graph to restore\n"
     ]
    },
    {
     "name": "stderr",
     "output_type": "stream",
     "text": [
      "INFO:tensorflow:Saver not created because there are no variables in the graph to restore\n"
     ]
    },
    {
     "name": "stdout",
     "output_type": "stream",
     "text": [
      "INFO:tensorflow:Saver not created because there are no variables in the graph to restore\n"
     ]
    },
    {
     "name": "stderr",
     "output_type": "stream",
     "text": [
      "INFO:tensorflow:Saver not created because there are no variables in the graph to restore\n"
     ]
    },
    {
     "name": "stdout",
     "output_type": "stream",
     "text": [
      "INFO:tensorflow:Saver not created because there are no variables in the graph to restore\n"
     ]
    },
    {
     "name": "stderr",
     "output_type": "stream",
     "text": [
      "INFO:tensorflow:Saver not created because there are no variables in the graph to restore\n"
     ]
    },
    {
     "name": "stdout",
     "output_type": "stream",
     "text": [
      "INFO:tensorflow:Saver not created because there are no variables in the graph to restore\n"
     ]
    },
    {
     "name": "stderr",
     "output_type": "stream",
     "text": [
      "INFO:tensorflow:Saver not created because there are no variables in the graph to restore\n"
     ]
    },
    {
     "name": "stdout",
     "output_type": "stream",
     "text": [
      "INFO:tensorflow:Saver not created because there are no variables in the graph to restore\n"
     ]
    },
    {
     "name": "stderr",
     "output_type": "stream",
     "text": [
      "INFO:tensorflow:Saver not created because there are no variables in the graph to restore\n"
     ]
    },
    {
     "name": "stdout",
     "output_type": "stream",
     "text": [
      "INFO:tensorflow:Saver not created because there are no variables in the graph to restore\n"
     ]
    },
    {
     "name": "stderr",
     "output_type": "stream",
     "text": [
      "INFO:tensorflow:Saver not created because there are no variables in the graph to restore\n"
     ]
    },
    {
     "name": "stdout",
     "output_type": "stream",
     "text": [
      "INFO:tensorflow:Saver not created because there are no variables in the graph to restore\n"
     ]
    },
    {
     "name": "stderr",
     "output_type": "stream",
     "text": [
      "INFO:tensorflow:Saver not created because there are no variables in the graph to restore\n"
     ]
    },
    {
     "name": "stdout",
     "output_type": "stream",
     "text": [
      "INFO:tensorflow:Saver not created because there are no variables in the graph to restore\n"
     ]
    },
    {
     "name": "stderr",
     "output_type": "stream",
     "text": [
      "INFO:tensorflow:Saver not created because there are no variables in the graph to restore\n"
     ]
    },
    {
     "name": "stdout",
     "output_type": "stream",
     "text": [
      "INFO:tensorflow:Saver not created because there are no variables in the graph to restore\n"
     ]
    },
    {
     "name": "stderr",
     "output_type": "stream",
     "text": [
      "INFO:tensorflow:Saver not created because there are no variables in the graph to restore\n"
     ]
    },
    {
     "name": "stdout",
     "output_type": "stream",
     "text": [
      "INFO:tensorflow:Saver not created because there are no variables in the graph to restore\n"
     ]
    },
    {
     "name": "stderr",
     "output_type": "stream",
     "text": [
      "INFO:tensorflow:Saver not created because there are no variables in the graph to restore\n"
     ]
    },
    {
     "name": "stdout",
     "output_type": "stream",
     "text": [
      "INFO:tensorflow:Saver not created because there are no variables in the graph to restore\n"
     ]
    },
    {
     "name": "stderr",
     "output_type": "stream",
     "text": [
      "INFO:tensorflow:Saver not created because there are no variables in the graph to restore\n"
     ]
    },
    {
     "name": "stdout",
     "output_type": "stream",
     "text": [
      "INFO:tensorflow:Saver not created because there are no variables in the graph to restore\n"
     ]
    },
    {
     "name": "stderr",
     "output_type": "stream",
     "text": [
      "INFO:tensorflow:Saver not created because there are no variables in the graph to restore\n"
     ]
    },
    {
     "name": "stdout",
     "output_type": "stream",
     "text": [
      "INFO:tensorflow:Saver not created because there are no variables in the graph to restore\n"
     ]
    },
    {
     "name": "stderr",
     "output_type": "stream",
     "text": [
      "INFO:tensorflow:Saver not created because there are no variables in the graph to restore\n"
     ]
    },
    {
     "name": "stdout",
     "output_type": "stream",
     "text": [
      "INFO:tensorflow:Saver not created because there are no variables in the graph to restore\n"
     ]
    },
    {
     "name": "stderr",
     "output_type": "stream",
     "text": [
      "INFO:tensorflow:Saver not created because there are no variables in the graph to restore\n"
     ]
    },
    {
     "name": "stdout",
     "output_type": "stream",
     "text": [
      "INFO:tensorflow:Saver not created because there are no variables in the graph to restore\n"
     ]
    },
    {
     "name": "stderr",
     "output_type": "stream",
     "text": [
      "INFO:tensorflow:Saver not created because there are no variables in the graph to restore\n"
     ]
    },
    {
     "name": "stdout",
     "output_type": "stream",
     "text": [
      "INFO:tensorflow:Saver not created because there are no variables in the graph to restore\n"
     ]
    },
    {
     "name": "stderr",
     "output_type": "stream",
     "text": [
      "INFO:tensorflow:Saver not created because there are no variables in the graph to restore\n"
     ]
    },
    {
     "name": "stdout",
     "output_type": "stream",
     "text": [
      "INFO:tensorflow:Saver not created because there are no variables in the graph to restore\n"
     ]
    },
    {
     "name": "stderr",
     "output_type": "stream",
     "text": [
      "INFO:tensorflow:Saver not created because there are no variables in the graph to restore\n"
     ]
    },
    {
     "name": "stdout",
     "output_type": "stream",
     "text": [
      "INFO:tensorflow:Saver not created because there are no variables in the graph to restore\n"
     ]
    },
    {
     "name": "stderr",
     "output_type": "stream",
     "text": [
      "INFO:tensorflow:Saver not created because there are no variables in the graph to restore\n"
     ]
    },
    {
     "name": "stdout",
     "output_type": "stream",
     "text": [
      "INFO:tensorflow:Saver not created because there are no variables in the graph to restore\n"
     ]
    },
    {
     "name": "stderr",
     "output_type": "stream",
     "text": [
      "INFO:tensorflow:Saver not created because there are no variables in the graph to restore\n"
     ]
    },
    {
     "name": "stdout",
     "output_type": "stream",
     "text": [
      "INFO:tensorflow:Saver not created because there are no variables in the graph to restore\n"
     ]
    },
    {
     "name": "stderr",
     "output_type": "stream",
     "text": [
      "INFO:tensorflow:Saver not created because there are no variables in the graph to restore\n"
     ]
    },
    {
     "name": "stdout",
     "output_type": "stream",
     "text": [
      "INFO:tensorflow:Saver not created because there are no variables in the graph to restore\n"
     ]
    },
    {
     "name": "stderr",
     "output_type": "stream",
     "text": [
      "INFO:tensorflow:Saver not created because there are no variables in the graph to restore\n"
     ]
    },
    {
     "name": "stdout",
     "output_type": "stream",
     "text": [
      "INFO:tensorflow:Saver not created because there are no variables in the graph to restore\n"
     ]
    },
    {
     "name": "stderr",
     "output_type": "stream",
     "text": [
      "INFO:tensorflow:Saver not created because there are no variables in the graph to restore\n"
     ]
    },
    {
     "name": "stdout",
     "output_type": "stream",
     "text": [
      "INFO:tensorflow:Saver not created because there are no variables in the graph to restore\n"
     ]
    },
    {
     "name": "stderr",
     "output_type": "stream",
     "text": [
      "INFO:tensorflow:Saver not created because there are no variables in the graph to restore\n"
     ]
    },
    {
     "name": "stdout",
     "output_type": "stream",
     "text": [
      "INFO:tensorflow:Saver not created because there are no variables in the graph to restore\n"
     ]
    },
    {
     "name": "stderr",
     "output_type": "stream",
     "text": [
      "INFO:tensorflow:Saver not created because there are no variables in the graph to restore\n"
     ]
    },
    {
     "name": "stdout",
     "output_type": "stream",
     "text": [
      "INFO:tensorflow:Saver not created because there are no variables in the graph to restore\n"
     ]
    },
    {
     "name": "stderr",
     "output_type": "stream",
     "text": [
      "INFO:tensorflow:Saver not created because there are no variables in the graph to restore\n"
     ]
    },
    {
     "name": "stdout",
     "output_type": "stream",
     "text": [
      "INFO:tensorflow:Saver not created because there are no variables in the graph to restore\n"
     ]
    },
    {
     "name": "stderr",
     "output_type": "stream",
     "text": [
      "INFO:tensorflow:Saver not created because there are no variables in the graph to restore\n"
     ]
    },
    {
     "name": "stdout",
     "output_type": "stream",
     "text": [
      "INFO:tensorflow:Saver not created because there are no variables in the graph to restore\n"
     ]
    },
    {
     "name": "stderr",
     "output_type": "stream",
     "text": [
      "INFO:tensorflow:Saver not created because there are no variables in the graph to restore\n"
     ]
    },
    {
     "name": "stdout",
     "output_type": "stream",
     "text": [
      "INFO:tensorflow:Saver not created because there are no variables in the graph to restore\n"
     ]
    },
    {
     "name": "stderr",
     "output_type": "stream",
     "text": [
      "INFO:tensorflow:Saver not created because there are no variables in the graph to restore\n"
     ]
    },
    {
     "name": "stdout",
     "output_type": "stream",
     "text": [
      "INFO:tensorflow:Saver not created because there are no variables in the graph to restore\n"
     ]
    },
    {
     "name": "stderr",
     "output_type": "stream",
     "text": [
      "INFO:tensorflow:Saver not created because there are no variables in the graph to restore\n"
     ]
    },
    {
     "name": "stdout",
     "output_type": "stream",
     "text": [
      "INFO:tensorflow:Saver not created because there are no variables in the graph to restore\n"
     ]
    },
    {
     "name": "stderr",
     "output_type": "stream",
     "text": [
      "INFO:tensorflow:Saver not created because there are no variables in the graph to restore\n"
     ]
    },
    {
     "name": "stdout",
     "output_type": "stream",
     "text": [
      "INFO:tensorflow:Saver not created because there are no variables in the graph to restore\n"
     ]
    },
    {
     "name": "stderr",
     "output_type": "stream",
     "text": [
      "INFO:tensorflow:Saver not created because there are no variables in the graph to restore\n"
     ]
    },
    {
     "name": "stdout",
     "output_type": "stream",
     "text": [
      "INFO:tensorflow:Saver not created because there are no variables in the graph to restore\n"
     ]
    },
    {
     "name": "stderr",
     "output_type": "stream",
     "text": [
      "INFO:tensorflow:Saver not created because there are no variables in the graph to restore\n"
     ]
    },
    {
     "name": "stdout",
     "output_type": "stream",
     "text": [
      "INFO:tensorflow:Saver not created because there are no variables in the graph to restore\n"
     ]
    },
    {
     "name": "stderr",
     "output_type": "stream",
     "text": [
      "INFO:tensorflow:Saver not created because there are no variables in the graph to restore\n"
     ]
    },
    {
     "name": "stdout",
     "output_type": "stream",
     "text": [
      "INFO:tensorflow:Saver not created because there are no variables in the graph to restore\n"
     ]
    },
    {
     "name": "stderr",
     "output_type": "stream",
     "text": [
      "INFO:tensorflow:Saver not created because there are no variables in the graph to restore\n"
     ]
    },
    {
     "name": "stdout",
     "output_type": "stream",
     "text": [
      "INFO:tensorflow:Saver not created because there are no variables in the graph to restore\n"
     ]
    },
    {
     "name": "stderr",
     "output_type": "stream",
     "text": [
      "INFO:tensorflow:Saver not created because there are no variables in the graph to restore\n"
     ]
    },
    {
     "name": "stdout",
     "output_type": "stream",
     "text": [
      "INFO:tensorflow:Saver not created because there are no variables in the graph to restore\n"
     ]
    },
    {
     "name": "stderr",
     "output_type": "stream",
     "text": [
      "INFO:tensorflow:Saver not created because there are no variables in the graph to restore\n"
     ]
    },
    {
     "name": "stdout",
     "output_type": "stream",
     "text": [
      "INFO:tensorflow:Saver not created because there are no variables in the graph to restore\n"
     ]
    },
    {
     "name": "stderr",
     "output_type": "stream",
     "text": [
      "INFO:tensorflow:Saver not created because there are no variables in the graph to restore\n"
     ]
    },
    {
     "name": "stdout",
     "output_type": "stream",
     "text": [
      "INFO:tensorflow:Saver not created because there are no variables in the graph to restore\n"
     ]
    },
    {
     "name": "stderr",
     "output_type": "stream",
     "text": [
      "INFO:tensorflow:Saver not created because there are no variables in the graph to restore\n"
     ]
    },
    {
     "name": "stdout",
     "output_type": "stream",
     "text": [
      "INFO:tensorflow:Saver not created because there are no variables in the graph to restore\n"
     ]
    },
    {
     "name": "stderr",
     "output_type": "stream",
     "text": [
      "INFO:tensorflow:Saver not created because there are no variables in the graph to restore\n"
     ]
    },
    {
     "name": "stdout",
     "output_type": "stream",
     "text": [
      "INFO:tensorflow:Saver not created because there are no variables in the graph to restore\n"
     ]
    },
    {
     "name": "stderr",
     "output_type": "stream",
     "text": [
      "INFO:tensorflow:Saver not created because there are no variables in the graph to restore\n"
     ]
    },
    {
     "name": "stdout",
     "output_type": "stream",
     "text": [
      "INFO:tensorflow:Saver not created because there are no variables in the graph to restore\n"
     ]
    },
    {
     "name": "stderr",
     "output_type": "stream",
     "text": [
      "INFO:tensorflow:Saver not created because there are no variables in the graph to restore\n"
     ]
    },
    {
     "name": "stdout",
     "output_type": "stream",
     "text": [
      "INFO:tensorflow:Saver not created because there are no variables in the graph to restore\n"
     ]
    },
    {
     "name": "stderr",
     "output_type": "stream",
     "text": [
      "INFO:tensorflow:Saver not created because there are no variables in the graph to restore\n"
     ]
    },
    {
     "name": "stdout",
     "output_type": "stream",
     "text": [
      "INFO:tensorflow:Saver not created because there are no variables in the graph to restore\n"
     ]
    },
    {
     "name": "stderr",
     "output_type": "stream",
     "text": [
      "INFO:tensorflow:Saver not created because there are no variables in the graph to restore\n"
     ]
    },
    {
     "name": "stdout",
     "output_type": "stream",
     "text": [
      "INFO:tensorflow:Saver not created because there are no variables in the graph to restore\n"
     ]
    },
    {
     "name": "stderr",
     "output_type": "stream",
     "text": [
      "INFO:tensorflow:Saver not created because there are no variables in the graph to restore\n"
     ]
    },
    {
     "name": "stdout",
     "output_type": "stream",
     "text": [
      "INFO:tensorflow:Saver not created because there are no variables in the graph to restore\n"
     ]
    },
    {
     "name": "stderr",
     "output_type": "stream",
     "text": [
      "INFO:tensorflow:Saver not created because there are no variables in the graph to restore\n"
     ]
    },
    {
     "name": "stdout",
     "output_type": "stream",
     "text": [
      "INFO:tensorflow:Saver not created because there are no variables in the graph to restore\n"
     ]
    },
    {
     "name": "stderr",
     "output_type": "stream",
     "text": [
      "INFO:tensorflow:Saver not created because there are no variables in the graph to restore\n"
     ]
    },
    {
     "name": "stdout",
     "output_type": "stream",
     "text": [
      "INFO:tensorflow:Saver not created because there are no variables in the graph to restore\n"
     ]
    },
    {
     "name": "stderr",
     "output_type": "stream",
     "text": [
      "INFO:tensorflow:Saver not created because there are no variables in the graph to restore\n"
     ]
    },
    {
     "name": "stdout",
     "output_type": "stream",
     "text": [
      "INFO:tensorflow:Saver not created because there are no variables in the graph to restore\n"
     ]
    },
    {
     "name": "stderr",
     "output_type": "stream",
     "text": [
      "INFO:tensorflow:Saver not created because there are no variables in the graph to restore\n"
     ]
    },
    {
     "name": "stdout",
     "output_type": "stream",
     "text": [
      "INFO:tensorflow:Saver not created because there are no variables in the graph to restore\n"
     ]
    },
    {
     "name": "stderr",
     "output_type": "stream",
     "text": [
      "INFO:tensorflow:Saver not created because there are no variables in the graph to restore\n"
     ]
    },
    {
     "name": "stdout",
     "output_type": "stream",
     "text": [
      "INFO:tensorflow:Saver not created because there are no variables in the graph to restore\n"
     ]
    },
    {
     "name": "stderr",
     "output_type": "stream",
     "text": [
      "INFO:tensorflow:Saver not created because there are no variables in the graph to restore\n"
     ]
    },
    {
     "name": "stdout",
     "output_type": "stream",
     "text": [
      "INFO:tensorflow:Saver not created because there are no variables in the graph to restore\n"
     ]
    },
    {
     "name": "stderr",
     "output_type": "stream",
     "text": [
      "INFO:tensorflow:Saver not created because there are no variables in the graph to restore\n"
     ]
    },
    {
     "name": "stdout",
     "output_type": "stream",
     "text": [
      "INFO:tensorflow:Saver not created because there are no variables in the graph to restore\n"
     ]
    },
    {
     "name": "stderr",
     "output_type": "stream",
     "text": [
      "INFO:tensorflow:Saver not created because there are no variables in the graph to restore\n"
     ]
    },
    {
     "name": "stdout",
     "output_type": "stream",
     "text": [
      "INFO:tensorflow:Saver not created because there are no variables in the graph to restore\n"
     ]
    },
    {
     "name": "stderr",
     "output_type": "stream",
     "text": [
      "INFO:tensorflow:Saver not created because there are no variables in the graph to restore\n"
     ]
    },
    {
     "name": "stdout",
     "output_type": "stream",
     "text": [
      "INFO:tensorflow:Saver not created because there are no variables in the graph to restore\n"
     ]
    },
    {
     "name": "stderr",
     "output_type": "stream",
     "text": [
      "INFO:tensorflow:Saver not created because there are no variables in the graph to restore\n"
     ]
    },
    {
     "name": "stdout",
     "output_type": "stream",
     "text": [
      "INFO:tensorflow:Saver not created because there are no variables in the graph to restore\n"
     ]
    },
    {
     "name": "stderr",
     "output_type": "stream",
     "text": [
      "INFO:tensorflow:Saver not created because there are no variables in the graph to restore\n"
     ]
    },
    {
     "name": "stdout",
     "output_type": "stream",
     "text": [
      "INFO:tensorflow:Saver not created because there are no variables in the graph to restore\n"
     ]
    },
    {
     "name": "stderr",
     "output_type": "stream",
     "text": [
      "INFO:tensorflow:Saver not created because there are no variables in the graph to restore\n"
     ]
    },
    {
     "name": "stdout",
     "output_type": "stream",
     "text": [
      "INFO:tensorflow:Saver not created because there are no variables in the graph to restore\n"
     ]
    },
    {
     "name": "stderr",
     "output_type": "stream",
     "text": [
      "INFO:tensorflow:Saver not created because there are no variables in the graph to restore\n"
     ]
    },
    {
     "name": "stdout",
     "output_type": "stream",
     "text": [
      "INFO:tensorflow:Saver not created because there are no variables in the graph to restore\n"
     ]
    },
    {
     "name": "stderr",
     "output_type": "stream",
     "text": [
      "INFO:tensorflow:Saver not created because there are no variables in the graph to restore\n"
     ]
    },
    {
     "name": "stdout",
     "output_type": "stream",
     "text": [
      "INFO:tensorflow:Saver not created because there are no variables in the graph to restore\n"
     ]
    },
    {
     "name": "stderr",
     "output_type": "stream",
     "text": [
      "INFO:tensorflow:Saver not created because there are no variables in the graph to restore\n"
     ]
    },
    {
     "name": "stdout",
     "output_type": "stream",
     "text": [
      "INFO:tensorflow:Saver not created because there are no variables in the graph to restore\n"
     ]
    },
    {
     "name": "stderr",
     "output_type": "stream",
     "text": [
      "INFO:tensorflow:Saver not created because there are no variables in the graph to restore\n"
     ]
    },
    {
     "name": "stdout",
     "output_type": "stream",
     "text": [
      "INFO:tensorflow:Saver not created because there are no variables in the graph to restore\n"
     ]
    },
    {
     "name": "stderr",
     "output_type": "stream",
     "text": [
      "INFO:tensorflow:Saver not created because there are no variables in the graph to restore\n"
     ]
    },
    {
     "name": "stdout",
     "output_type": "stream",
     "text": [
      "INFO:tensorflow:Saver not created because there are no variables in the graph to restore\n"
     ]
    },
    {
     "name": "stderr",
     "output_type": "stream",
     "text": [
      "INFO:tensorflow:Saver not created because there are no variables in the graph to restore\n"
     ]
    },
    {
     "name": "stdout",
     "output_type": "stream",
     "text": [
      "INFO:tensorflow:Saver not created because there are no variables in the graph to restore\n"
     ]
    },
    {
     "name": "stderr",
     "output_type": "stream",
     "text": [
      "INFO:tensorflow:Saver not created because there are no variables in the graph to restore\n"
     ]
    },
    {
     "name": "stdout",
     "output_type": "stream",
     "text": [
      "INFO:tensorflow:Saver not created because there are no variables in the graph to restore\n"
     ]
    },
    {
     "name": "stderr",
     "output_type": "stream",
     "text": [
      "INFO:tensorflow:Saver not created because there are no variables in the graph to restore\n"
     ]
    },
    {
     "name": "stdout",
     "output_type": "stream",
     "text": [
      "INFO:tensorflow:Saver not created because there are no variables in the graph to restore\n"
     ]
    },
    {
     "name": "stderr",
     "output_type": "stream",
     "text": [
      "INFO:tensorflow:Saver not created because there are no variables in the graph to restore\n"
     ]
    },
    {
     "name": "stdout",
     "output_type": "stream",
     "text": [
      "INFO:tensorflow:Saver not created because there are no variables in the graph to restore\n"
     ]
    },
    {
     "name": "stderr",
     "output_type": "stream",
     "text": [
      "INFO:tensorflow:Saver not created because there are no variables in the graph to restore\n"
     ]
    },
    {
     "name": "stdout",
     "output_type": "stream",
     "text": [
      "INFO:tensorflow:Saver not created because there are no variables in the graph to restore\n"
     ]
    },
    {
     "name": "stderr",
     "output_type": "stream",
     "text": [
      "INFO:tensorflow:Saver not created because there are no variables in the graph to restore\n"
     ]
    },
    {
     "name": "stdout",
     "output_type": "stream",
     "text": [
      "INFO:tensorflow:Saver not created because there are no variables in the graph to restore\n"
     ]
    },
    {
     "name": "stderr",
     "output_type": "stream",
     "text": [
      "INFO:tensorflow:Saver not created because there are no variables in the graph to restore\n"
     ]
    },
    {
     "name": "stdout",
     "output_type": "stream",
     "text": [
      "INFO:tensorflow:Saver not created because there are no variables in the graph to restore\n"
     ]
    },
    {
     "name": "stderr",
     "output_type": "stream",
     "text": [
      "INFO:tensorflow:Saver not created because there are no variables in the graph to restore\n"
     ]
    },
    {
     "name": "stdout",
     "output_type": "stream",
     "text": [
      "INFO:tensorflow:Saver not created because there are no variables in the graph to restore\n"
     ]
    },
    {
     "name": "stderr",
     "output_type": "stream",
     "text": [
      "INFO:tensorflow:Saver not created because there are no variables in the graph to restore\n"
     ]
    },
    {
     "name": "stdout",
     "output_type": "stream",
     "text": [
      "INFO:tensorflow:Saver not created because there are no variables in the graph to restore\n"
     ]
    },
    {
     "name": "stderr",
     "output_type": "stream",
     "text": [
      "INFO:tensorflow:Saver not created because there are no variables in the graph to restore\n"
     ]
    },
    {
     "name": "stdout",
     "output_type": "stream",
     "text": [
      "INFO:tensorflow:Saver not created because there are no variables in the graph to restore\n"
     ]
    },
    {
     "name": "stderr",
     "output_type": "stream",
     "text": [
      "INFO:tensorflow:Saver not created because there are no variables in the graph to restore\n"
     ]
    },
    {
     "name": "stdout",
     "output_type": "stream",
     "text": [
      "INFO:tensorflow:Saver not created because there are no variables in the graph to restore\n"
     ]
    },
    {
     "name": "stderr",
     "output_type": "stream",
     "text": [
      "INFO:tensorflow:Saver not created because there are no variables in the graph to restore\n"
     ]
    },
    {
     "name": "stdout",
     "output_type": "stream",
     "text": [
      "INFO:tensorflow:Saver not created because there are no variables in the graph to restore\n"
     ]
    },
    {
     "name": "stderr",
     "output_type": "stream",
     "text": [
      "INFO:tensorflow:Saver not created because there are no variables in the graph to restore\n"
     ]
    },
    {
     "name": "stdout",
     "output_type": "stream",
     "text": [
      "INFO:tensorflow:Saver not created because there are no variables in the graph to restore\n"
     ]
    },
    {
     "name": "stderr",
     "output_type": "stream",
     "text": [
      "INFO:tensorflow:Saver not created because there are no variables in the graph to restore\n"
     ]
    },
    {
     "name": "stdout",
     "output_type": "stream",
     "text": [
      "INFO:tensorflow:Saver not created because there are no variables in the graph to restore\n"
     ]
    },
    {
     "name": "stderr",
     "output_type": "stream",
     "text": [
      "INFO:tensorflow:Saver not created because there are no variables in the graph to restore\n"
     ]
    },
    {
     "name": "stdout",
     "output_type": "stream",
     "text": [
      "INFO:tensorflow:Saver not created because there are no variables in the graph to restore\n"
     ]
    },
    {
     "name": "stderr",
     "output_type": "stream",
     "text": [
      "INFO:tensorflow:Saver not created because there are no variables in the graph to restore\n"
     ]
    },
    {
     "name": "stdout",
     "output_type": "stream",
     "text": [
      "INFO:tensorflow:Saver not created because there are no variables in the graph to restore\n"
     ]
    },
    {
     "name": "stderr",
     "output_type": "stream",
     "text": [
      "INFO:tensorflow:Saver not created because there are no variables in the graph to restore\n"
     ]
    },
    {
     "name": "stdout",
     "output_type": "stream",
     "text": [
      "INFO:tensorflow:Saver not created because there are no variables in the graph to restore\n"
     ]
    },
    {
     "name": "stderr",
     "output_type": "stream",
     "text": [
      "INFO:tensorflow:Saver not created because there are no variables in the graph to restore\n"
     ]
    },
    {
     "name": "stdout",
     "output_type": "stream",
     "text": [
      "INFO:tensorflow:Saver not created because there are no variables in the graph to restore\n"
     ]
    },
    {
     "name": "stderr",
     "output_type": "stream",
     "text": [
      "INFO:tensorflow:Saver not created because there are no variables in the graph to restore\n"
     ]
    },
    {
     "name": "stdout",
     "output_type": "stream",
     "text": [
      "INFO:tensorflow:Saver not created because there are no variables in the graph to restore\n"
     ]
    },
    {
     "name": "stderr",
     "output_type": "stream",
     "text": [
      "INFO:tensorflow:Saver not created because there are no variables in the graph to restore\n"
     ]
    },
    {
     "name": "stdout",
     "output_type": "stream",
     "text": [
      "INFO:tensorflow:Saver not created because there are no variables in the graph to restore\n"
     ]
    },
    {
     "name": "stderr",
     "output_type": "stream",
     "text": [
      "INFO:tensorflow:Saver not created because there are no variables in the graph to restore\n"
     ]
    },
    {
     "name": "stdout",
     "output_type": "stream",
     "text": [
      "INFO:tensorflow:Saver not created because there are no variables in the graph to restore\n"
     ]
    },
    {
     "name": "stderr",
     "output_type": "stream",
     "text": [
      "INFO:tensorflow:Saver not created because there are no variables in the graph to restore\n"
     ]
    },
    {
     "name": "stdout",
     "output_type": "stream",
     "text": [
      "INFO:tensorflow:Saver not created because there are no variables in the graph to restore\n"
     ]
    },
    {
     "name": "stderr",
     "output_type": "stream",
     "text": [
      "INFO:tensorflow:Saver not created because there are no variables in the graph to restore\n"
     ]
    },
    {
     "name": "stdout",
     "output_type": "stream",
     "text": [
      "INFO:tensorflow:Saver not created because there are no variables in the graph to restore\n"
     ]
    },
    {
     "name": "stderr",
     "output_type": "stream",
     "text": [
      "INFO:tensorflow:Saver not created because there are no variables in the graph to restore\n"
     ]
    },
    {
     "name": "stdout",
     "output_type": "stream",
     "text": [
      "INFO:tensorflow:Saver not created because there are no variables in the graph to restore\n"
     ]
    },
    {
     "name": "stderr",
     "output_type": "stream",
     "text": [
      "INFO:tensorflow:Saver not created because there are no variables in the graph to restore\n"
     ]
    },
    {
     "name": "stdout",
     "output_type": "stream",
     "text": [
      "INFO:tensorflow:Saver not created because there are no variables in the graph to restore\n"
     ]
    },
    {
     "name": "stderr",
     "output_type": "stream",
     "text": [
      "INFO:tensorflow:Saver not created because there are no variables in the graph to restore\n"
     ]
    },
    {
     "name": "stdout",
     "output_type": "stream",
     "text": [
      "INFO:tensorflow:Saver not created because there are no variables in the graph to restore\n"
     ]
    },
    {
     "name": "stderr",
     "output_type": "stream",
     "text": [
      "INFO:tensorflow:Saver not created because there are no variables in the graph to restore\n"
     ]
    },
    {
     "name": "stdout",
     "output_type": "stream",
     "text": [
      "INFO:tensorflow:Saver not created because there are no variables in the graph to restore\n"
     ]
    },
    {
     "name": "stderr",
     "output_type": "stream",
     "text": [
      "INFO:tensorflow:Saver not created because there are no variables in the graph to restore\n"
     ]
    },
    {
     "name": "stdout",
     "output_type": "stream",
     "text": [
      "INFO:tensorflow:Saver not created because there are no variables in the graph to restore\n"
     ]
    },
    {
     "name": "stderr",
     "output_type": "stream",
     "text": [
      "INFO:tensorflow:Saver not created because there are no variables in the graph to restore\n"
     ]
    },
    {
     "name": "stdout",
     "output_type": "stream",
     "text": [
      "INFO:tensorflow:Saver not created because there are no variables in the graph to restore\n"
     ]
    },
    {
     "name": "stderr",
     "output_type": "stream",
     "text": [
      "INFO:tensorflow:Saver not created because there are no variables in the graph to restore\n"
     ]
    },
    {
     "name": "stdout",
     "output_type": "stream",
     "text": [
      "INFO:tensorflow:Saver not created because there are no variables in the graph to restore\n"
     ]
    },
    {
     "name": "stderr",
     "output_type": "stream",
     "text": [
      "INFO:tensorflow:Saver not created because there are no variables in the graph to restore\n"
     ]
    },
    {
     "name": "stdout",
     "output_type": "stream",
     "text": [
      "INFO:tensorflow:Saver not created because there are no variables in the graph to restore\n"
     ]
    },
    {
     "name": "stderr",
     "output_type": "stream",
     "text": [
      "INFO:tensorflow:Saver not created because there are no variables in the graph to restore\n"
     ]
    },
    {
     "name": "stdout",
     "output_type": "stream",
     "text": [
      "INFO:tensorflow:Saver not created because there are no variables in the graph to restore\n"
     ]
    },
    {
     "name": "stderr",
     "output_type": "stream",
     "text": [
      "INFO:tensorflow:Saver not created because there are no variables in the graph to restore\n"
     ]
    },
    {
     "name": "stdout",
     "output_type": "stream",
     "text": [
      "INFO:tensorflow:Saver not created because there are no variables in the graph to restore\n"
     ]
    },
    {
     "name": "stderr",
     "output_type": "stream",
     "text": [
      "INFO:tensorflow:Saver not created because there are no variables in the graph to restore\n"
     ]
    },
    {
     "name": "stdout",
     "output_type": "stream",
     "text": [
      "INFO:tensorflow:Saver not created because there are no variables in the graph to restore\n"
     ]
    },
    {
     "name": "stderr",
     "output_type": "stream",
     "text": [
      "INFO:tensorflow:Saver not created because there are no variables in the graph to restore\n"
     ]
    },
    {
     "name": "stdout",
     "output_type": "stream",
     "text": [
      "INFO:tensorflow:Saver not created because there are no variables in the graph to restore\n"
     ]
    },
    {
     "name": "stderr",
     "output_type": "stream",
     "text": [
      "INFO:tensorflow:Saver not created because there are no variables in the graph to restore\n"
     ]
    },
    {
     "name": "stdout",
     "output_type": "stream",
     "text": [
      "INFO:tensorflow:Saver not created because there are no variables in the graph to restore\n"
     ]
    },
    {
     "name": "stderr",
     "output_type": "stream",
     "text": [
      "INFO:tensorflow:Saver not created because there are no variables in the graph to restore\n"
     ]
    },
    {
     "name": "stdout",
     "output_type": "stream",
     "text": [
      "INFO:tensorflow:Saver not created because there are no variables in the graph to restore\n"
     ]
    },
    {
     "name": "stderr",
     "output_type": "stream",
     "text": [
      "INFO:tensorflow:Saver not created because there are no variables in the graph to restore\n"
     ]
    },
    {
     "name": "stdout",
     "output_type": "stream",
     "text": [
      "INFO:tensorflow:Saver not created because there are no variables in the graph to restore\n"
     ]
    },
    {
     "name": "stderr",
     "output_type": "stream",
     "text": [
      "INFO:tensorflow:Saver not created because there are no variables in the graph to restore\n"
     ]
    },
    {
     "name": "stdout",
     "output_type": "stream",
     "text": [
      "INFO:tensorflow:Saver not created because there are no variables in the graph to restore\n"
     ]
    },
    {
     "name": "stderr",
     "output_type": "stream",
     "text": [
      "INFO:tensorflow:Saver not created because there are no variables in the graph to restore\n"
     ]
    },
    {
     "name": "stdout",
     "output_type": "stream",
     "text": [
      "INFO:tensorflow:Saver not created because there are no variables in the graph to restore\n"
     ]
    },
    {
     "name": "stderr",
     "output_type": "stream",
     "text": [
      "INFO:tensorflow:Saver not created because there are no variables in the graph to restore\n"
     ]
    },
    {
     "name": "stdout",
     "output_type": "stream",
     "text": [
      "INFO:tensorflow:Saver not created because there are no variables in the graph to restore\n"
     ]
    },
    {
     "name": "stderr",
     "output_type": "stream",
     "text": [
      "INFO:tensorflow:Saver not created because there are no variables in the graph to restore\n"
     ]
    },
    {
     "name": "stdout",
     "output_type": "stream",
     "text": [
      "INFO:tensorflow:Saver not created because there are no variables in the graph to restore\n"
     ]
    },
    {
     "name": "stderr",
     "output_type": "stream",
     "text": [
      "INFO:tensorflow:Saver not created because there are no variables in the graph to restore\n"
     ]
    },
    {
     "name": "stdout",
     "output_type": "stream",
     "text": [
      "INFO:tensorflow:Saver not created because there are no variables in the graph to restore\n"
     ]
    },
    {
     "name": "stderr",
     "output_type": "stream",
     "text": [
      "INFO:tensorflow:Saver not created because there are no variables in the graph to restore\n"
     ]
    },
    {
     "name": "stdout",
     "output_type": "stream",
     "text": [
      "INFO:tensorflow:Saver not created because there are no variables in the graph to restore\n"
     ]
    },
    {
     "name": "stderr",
     "output_type": "stream",
     "text": [
      "INFO:tensorflow:Saver not created because there are no variables in the graph to restore\n"
     ]
    },
    {
     "name": "stdout",
     "output_type": "stream",
     "text": [
      "INFO:tensorflow:Saver not created because there are no variables in the graph to restore\n"
     ]
    },
    {
     "name": "stderr",
     "output_type": "stream",
     "text": [
      "INFO:tensorflow:Saver not created because there are no variables in the graph to restore\n"
     ]
    },
    {
     "name": "stdout",
     "output_type": "stream",
     "text": [
      "INFO:tensorflow:Saver not created because there are no variables in the graph to restore\n"
     ]
    },
    {
     "name": "stderr",
     "output_type": "stream",
     "text": [
      "INFO:tensorflow:Saver not created because there are no variables in the graph to restore\n"
     ]
    },
    {
     "name": "stdout",
     "output_type": "stream",
     "text": [
      "INFO:tensorflow:Saver not created because there are no variables in the graph to restore\n"
     ]
    },
    {
     "name": "stderr",
     "output_type": "stream",
     "text": [
      "INFO:tensorflow:Saver not created because there are no variables in the graph to restore\n"
     ]
    },
    {
     "name": "stdout",
     "output_type": "stream",
     "text": [
      "INFO:tensorflow:Saver not created because there are no variables in the graph to restore\n"
     ]
    },
    {
     "name": "stderr",
     "output_type": "stream",
     "text": [
      "INFO:tensorflow:Saver not created because there are no variables in the graph to restore\n"
     ]
    },
    {
     "name": "stdout",
     "output_type": "stream",
     "text": [
      "INFO:tensorflow:Saver not created because there are no variables in the graph to restore\n"
     ]
    },
    {
     "name": "stderr",
     "output_type": "stream",
     "text": [
      "INFO:tensorflow:Saver not created because there are no variables in the graph to restore\n"
     ]
    },
    {
     "name": "stdout",
     "output_type": "stream",
     "text": [
      "INFO:tensorflow:Saver not created because there are no variables in the graph to restore\n"
     ]
    },
    {
     "name": "stderr",
     "output_type": "stream",
     "text": [
      "INFO:tensorflow:Saver not created because there are no variables in the graph to restore\n"
     ]
    },
    {
     "name": "stdout",
     "output_type": "stream",
     "text": [
      "INFO:tensorflow:Saver not created because there are no variables in the graph to restore\n"
     ]
    },
    {
     "name": "stderr",
     "output_type": "stream",
     "text": [
      "INFO:tensorflow:Saver not created because there are no variables in the graph to restore\n"
     ]
    },
    {
     "name": "stdout",
     "output_type": "stream",
     "text": [
      "INFO:tensorflow:Saver not created because there are no variables in the graph to restore\n"
     ]
    },
    {
     "name": "stderr",
     "output_type": "stream",
     "text": [
      "INFO:tensorflow:Saver not created because there are no variables in the graph to restore\n"
     ]
    },
    {
     "name": "stdout",
     "output_type": "stream",
     "text": [
      "INFO:tensorflow:Saver not created because there are no variables in the graph to restore\n"
     ]
    },
    {
     "name": "stderr",
     "output_type": "stream",
     "text": [
      "INFO:tensorflow:Saver not created because there are no variables in the graph to restore\n"
     ]
    },
    {
     "name": "stdout",
     "output_type": "stream",
     "text": [
      "INFO:tensorflow:Saver not created because there are no variables in the graph to restore\n"
     ]
    },
    {
     "name": "stderr",
     "output_type": "stream",
     "text": [
      "INFO:tensorflow:Saver not created because there are no variables in the graph to restore\n"
     ]
    },
    {
     "name": "stdout",
     "output_type": "stream",
     "text": [
      "INFO:tensorflow:Saver not created because there are no variables in the graph to restore\n"
     ]
    },
    {
     "name": "stderr",
     "output_type": "stream",
     "text": [
      "INFO:tensorflow:Saver not created because there are no variables in the graph to restore\n"
     ]
    },
    {
     "name": "stdout",
     "output_type": "stream",
     "text": [
      "INFO:tensorflow:Saver not created because there are no variables in the graph to restore\n"
     ]
    },
    {
     "name": "stderr",
     "output_type": "stream",
     "text": [
      "INFO:tensorflow:Saver not created because there are no variables in the graph to restore\n"
     ]
    },
    {
     "name": "stdout",
     "output_type": "stream",
     "text": [
      "INFO:tensorflow:Saver not created because there are no variables in the graph to restore\n"
     ]
    },
    {
     "name": "stderr",
     "output_type": "stream",
     "text": [
      "INFO:tensorflow:Saver not created because there are no variables in the graph to restore\n"
     ]
    },
    {
     "name": "stdout",
     "output_type": "stream",
     "text": [
      "INFO:tensorflow:Saver not created because there are no variables in the graph to restore\n"
     ]
    },
    {
     "name": "stderr",
     "output_type": "stream",
     "text": [
      "INFO:tensorflow:Saver not created because there are no variables in the graph to restore\n"
     ]
    },
    {
     "name": "stdout",
     "output_type": "stream",
     "text": [
      "INFO:tensorflow:Saver not created because there are no variables in the graph to restore\n"
     ]
    },
    {
     "name": "stderr",
     "output_type": "stream",
     "text": [
      "INFO:tensorflow:Saver not created because there are no variables in the graph to restore\n"
     ]
    },
    {
     "data": {
      "text/html": [
       "<div>\n",
       "<style scoped>\n",
       "    .dataframe tbody tr th:only-of-type {\n",
       "        vertical-align: middle;\n",
       "    }\n",
       "\n",
       "    .dataframe tbody tr th {\n",
       "        vertical-align: top;\n",
       "    }\n",
       "\n",
       "    .dataframe thead th {\n",
       "        text-align: right;\n",
       "    }\n",
       "</style>\n",
       "<table border=\"1\" class=\"dataframe\">\n",
       "  <thead>\n",
       "    <tr style=\"text-align: right;\">\n",
       "      <th></th>\n",
       "      <th>job_title</th>\n",
       "      <th>connection</th>\n",
       "      <th>Doc2Vec_Cosine_Similarity</th>\n",
       "      <th>Scaled_Connection</th>\n",
       "      <th>Doc2Vec_Ranking</th>\n",
       "      <th>BERT_Cosine_Similarity</th>\n",
       "      <th>BERT_Ranking</th>\n",
       "      <th>ELMO_Cosine_Similarity</th>\n",
       "    </tr>\n",
       "  </thead>\n",
       "  <tbody>\n",
       "    <tr>\n",
       "      <th>96</th>\n",
       "      <td>Aspiring Human Resources Professional</td>\n",
       "      <td>71</td>\n",
       "      <td>0.990583</td>\n",
       "      <td>0.140281</td>\n",
       "      <td>0.820523</td>\n",
       "      <td>0.879234</td>\n",
       "      <td>0.731443</td>\n",
       "      <td>0.730009</td>\n",
       "    </tr>\n",
       "    <tr>\n",
       "      <th>2</th>\n",
       "      <td>Aspiring Human Resources Professional</td>\n",
       "      <td>44</td>\n",
       "      <td>0.991057</td>\n",
       "      <td>0.086172</td>\n",
       "      <td>0.810080</td>\n",
       "      <td>0.879234</td>\n",
       "      <td>0.720622</td>\n",
       "      <td>0.730009</td>\n",
       "    </tr>\n",
       "    <tr>\n",
       "      <th>45</th>\n",
       "      <td>Aspiring Human Resources Professional</td>\n",
       "      <td>44</td>\n",
       "      <td>0.987335</td>\n",
       "      <td>0.086172</td>\n",
       "      <td>0.807102</td>\n",
       "      <td>0.879234</td>\n",
       "      <td>0.720622</td>\n",
       "      <td>0.730009</td>\n",
       "    </tr>\n",
       "    <tr>\n",
       "      <th>57</th>\n",
       "      <td>Aspiring Human Resources Professional</td>\n",
       "      <td>44</td>\n",
       "      <td>0.991254</td>\n",
       "      <td>0.086172</td>\n",
       "      <td>0.810238</td>\n",
       "      <td>0.879234</td>\n",
       "      <td>0.720622</td>\n",
       "      <td>0.730009</td>\n",
       "    </tr>\n",
       "    <tr>\n",
       "      <th>20</th>\n",
       "      <td>Aspiring Human Resources Professional</td>\n",
       "      <td>44</td>\n",
       "      <td>0.992690</td>\n",
       "      <td>0.086172</td>\n",
       "      <td>0.811386</td>\n",
       "      <td>0.879234</td>\n",
       "      <td>0.720622</td>\n",
       "      <td>0.730009</td>\n",
       "    </tr>\n",
       "    <tr>\n",
       "      <th>32</th>\n",
       "      <td>Aspiring Human Resources Professional</td>\n",
       "      <td>44</td>\n",
       "      <td>0.992645</td>\n",
       "      <td>0.086172</td>\n",
       "      <td>0.811350</td>\n",
       "      <td>0.879234</td>\n",
       "      <td>0.720622</td>\n",
       "      <td>0.730009</td>\n",
       "    </tr>\n",
       "    <tr>\n",
       "      <th>16</th>\n",
       "      <td>Aspiring Human Resources Professional</td>\n",
       "      <td>44</td>\n",
       "      <td>0.980862</td>\n",
       "      <td>0.086172</td>\n",
       "      <td>0.801924</td>\n",
       "      <td>0.879234</td>\n",
       "      <td>0.720622</td>\n",
       "      <td>0.730009</td>\n",
       "    </tr>\n",
       "    <tr>\n",
       "      <th>23</th>\n",
       "      <td>Aspiring Human Resources Specialist</td>\n",
       "      <td>1</td>\n",
       "      <td>0.990798</td>\n",
       "      <td>0.000000</td>\n",
       "      <td>0.792638</td>\n",
       "      <td>0.864964</td>\n",
       "      <td>0.691971</td>\n",
       "      <td>0.720284</td>\n",
       "    </tr>\n",
       "    <tr>\n",
       "      <th>48</th>\n",
       "      <td>Aspiring Human Resources Specialist</td>\n",
       "      <td>1</td>\n",
       "      <td>0.985467</td>\n",
       "      <td>0.000000</td>\n",
       "      <td>0.788373</td>\n",
       "      <td>0.864964</td>\n",
       "      <td>0.691971</td>\n",
       "      <td>0.720284</td>\n",
       "    </tr>\n",
       "    <tr>\n",
       "      <th>35</th>\n",
       "      <td>Aspiring Human Resources Specialist</td>\n",
       "      <td>1</td>\n",
       "      <td>0.990959</td>\n",
       "      <td>0.000000</td>\n",
       "      <td>0.792767</td>\n",
       "      <td>0.864964</td>\n",
       "      <td>0.691971</td>\n",
       "      <td>0.720284</td>\n",
       "    </tr>\n",
       "    <tr>\n",
       "      <th>59</th>\n",
       "      <td>Aspiring Human Resources Specialist</td>\n",
       "      <td>1</td>\n",
       "      <td>0.990920</td>\n",
       "      <td>0.000000</td>\n",
       "      <td>0.792736</td>\n",
       "      <td>0.864964</td>\n",
       "      <td>0.691971</td>\n",
       "      <td>0.720284</td>\n",
       "    </tr>\n",
       "    <tr>\n",
       "      <th>5</th>\n",
       "      <td>Aspiring Human Resources Specialist</td>\n",
       "      <td>1</td>\n",
       "      <td>0.990545</td>\n",
       "      <td>0.000000</td>\n",
       "      <td>0.792436</td>\n",
       "      <td>0.864964</td>\n",
       "      <td>0.691971</td>\n",
       "      <td>0.720284</td>\n",
       "    </tr>\n",
       "    <tr>\n",
       "      <th>72</th>\n",
       "      <td>Aspiring Human Resources Manager, seeking internship in Human Resources.</td>\n",
       "      <td>7</td>\n",
       "      <td>0.986940</td>\n",
       "      <td>0.012024</td>\n",
       "      <td>0.791956</td>\n",
       "      <td>0.690075</td>\n",
       "      <td>0.554465</td>\n",
       "      <td>0.646481</td>\n",
       "    </tr>\n",
       "    <tr>\n",
       "      <th>28</th>\n",
       "      <td>Aspiring Human Resources Management student seeking an internship</td>\n",
       "      <td>500</td>\n",
       "      <td>0.990206</td>\n",
       "      <td>1.000000</td>\n",
       "      <td>0.992165</td>\n",
       "      <td>0.631580</td>\n",
       "      <td>0.705264</td>\n",
       "      <td>0.628849</td>\n",
       "    </tr>\n",
       "    <tr>\n",
       "      <th>26</th>\n",
       "      <td>Aspiring Human Resources Management student seeking an internship</td>\n",
       "      <td>500</td>\n",
       "      <td>0.993100</td>\n",
       "      <td>1.000000</td>\n",
       "      <td>0.994480</td>\n",
       "      <td>0.631580</td>\n",
       "      <td>0.705264</td>\n",
       "      <td>0.628849</td>\n",
       "    </tr>\n",
       "    <tr>\n",
       "      <th>73</th>\n",
       "      <td>Human Resources Professional</td>\n",
       "      <td>16</td>\n",
       "      <td>0.990839</td>\n",
       "      <td>0.030060</td>\n",
       "      <td>0.798683</td>\n",
       "      <td>0.754996</td>\n",
       "      <td>0.610008</td>\n",
       "      <td>0.581188</td>\n",
       "    </tr>\n",
       "    <tr>\n",
       "      <th>81</th>\n",
       "      <td>Aspiring Human Resources Professional | An energetic and Team-Focused Leader</td>\n",
       "      <td>174</td>\n",
       "      <td>0.984992</td>\n",
       "      <td>0.346693</td>\n",
       "      <td>0.857333</td>\n",
       "      <td>0.775665</td>\n",
       "      <td>0.689871</td>\n",
       "      <td>0.559697</td>\n",
       "    </tr>\n",
       "    <tr>\n",
       "      <th>75</th>\n",
       "      <td>Aspiring Human Resources Professional | Passionate about helping to create an inclusive and engaging work environment</td>\n",
       "      <td>212</td>\n",
       "      <td>0.995004</td>\n",
       "      <td>0.422846</td>\n",
       "      <td>0.880572</td>\n",
       "      <td>0.699148</td>\n",
       "      <td>0.643888</td>\n",
       "      <td>0.558892</td>\n",
       "    </tr>\n",
       "    <tr>\n",
       "      <th>65</th>\n",
       "      <td>Experienced Retail Manager and aspiring Human Resources Professional</td>\n",
       "      <td>57</td>\n",
       "      <td>0.993762</td>\n",
       "      <td>0.112224</td>\n",
       "      <td>0.817455</td>\n",
       "      <td>0.652588</td>\n",
       "      <td>0.544515</td>\n",
       "      <td>0.557029</td>\n",
       "    </tr>\n",
       "    <tr>\n",
       "      <th>27</th>\n",
       "      <td>Seeking Human Resources Opportunities</td>\n",
       "      <td>390</td>\n",
       "      <td>0.994370</td>\n",
       "      <td>0.779559</td>\n",
       "      <td>0.951408</td>\n",
       "      <td>0.696302</td>\n",
       "      <td>0.712953</td>\n",
       "      <td>0.511680</td>\n",
       "    </tr>\n",
       "  </tbody>\n",
       "</table>\n",
       "</div>"
      ],
      "text/plain": [
       "                                                                                                                job_title  \\\n",
       "96                                                                                  Aspiring Human Resources Professional   \n",
       "2                                                                                   Aspiring Human Resources Professional   \n",
       "45                                                                                  Aspiring Human Resources Professional   \n",
       "57                                                                                  Aspiring Human Resources Professional   \n",
       "20                                                                                  Aspiring Human Resources Professional   \n",
       "32                                                                                  Aspiring Human Resources Professional   \n",
       "16                                                                                  Aspiring Human Resources Professional   \n",
       "23                                                                                    Aspiring Human Resources Specialist   \n",
       "48                                                                                    Aspiring Human Resources Specialist   \n",
       "35                                                                                    Aspiring Human Resources Specialist   \n",
       "59                                                                                    Aspiring Human Resources Specialist   \n",
       "5                                                                                     Aspiring Human Resources Specialist   \n",
       "72                                               Aspiring Human Resources Manager, seeking internship in Human Resources.   \n",
       "28                                                      Aspiring Human Resources Management student seeking an internship   \n",
       "26                                                      Aspiring Human Resources Management student seeking an internship   \n",
       "73                                                                                           Human Resources Professional   \n",
       "81                                           Aspiring Human Resources Professional | An energetic and Team-Focused Leader   \n",
       "75  Aspiring Human Resources Professional | Passionate about helping to create an inclusive and engaging work environment   \n",
       "65                                                   Experienced Retail Manager and aspiring Human Resources Professional   \n",
       "27                                                                                  Seeking Human Resources Opportunities   \n",
       "\n",
       "   connection  Doc2Vec_Cosine_Similarity  Scaled_Connection  Doc2Vec_Ranking  \\\n",
       "96         71                   0.990583           0.140281         0.820523   \n",
       "2          44                   0.991057           0.086172         0.810080   \n",
       "45         44                   0.987335           0.086172         0.807102   \n",
       "57         44                   0.991254           0.086172         0.810238   \n",
       "20         44                   0.992690           0.086172         0.811386   \n",
       "32         44                   0.992645           0.086172         0.811350   \n",
       "16         44                   0.980862           0.086172         0.801924   \n",
       "23          1                   0.990798           0.000000         0.792638   \n",
       "48          1                   0.985467           0.000000         0.788373   \n",
       "35          1                   0.990959           0.000000         0.792767   \n",
       "59          1                   0.990920           0.000000         0.792736   \n",
       "5           1                   0.990545           0.000000         0.792436   \n",
       "72          7                   0.986940           0.012024         0.791956   \n",
       "28        500                   0.990206           1.000000         0.992165   \n",
       "26        500                   0.993100           1.000000         0.994480   \n",
       "73         16                   0.990839           0.030060         0.798683   \n",
       "81        174                   0.984992           0.346693         0.857333   \n",
       "75        212                   0.995004           0.422846         0.880572   \n",
       "65         57                   0.993762           0.112224         0.817455   \n",
       "27        390                   0.994370           0.779559         0.951408   \n",
       "\n",
       "    BERT_Cosine_Similarity  BERT_Ranking  ELMO_Cosine_Similarity  \n",
       "96                0.879234      0.731443                0.730009  \n",
       "2                 0.879234      0.720622                0.730009  \n",
       "45                0.879234      0.720622                0.730009  \n",
       "57                0.879234      0.720622                0.730009  \n",
       "20                0.879234      0.720622                0.730009  \n",
       "32                0.879234      0.720622                0.730009  \n",
       "16                0.879234      0.720622                0.730009  \n",
       "23                0.864964      0.691971                0.720284  \n",
       "48                0.864964      0.691971                0.720284  \n",
       "35                0.864964      0.691971                0.720284  \n",
       "59                0.864964      0.691971                0.720284  \n",
       "5                 0.864964      0.691971                0.720284  \n",
       "72                0.690075      0.554465                0.646481  \n",
       "28                0.631580      0.705264                0.628849  \n",
       "26                0.631580      0.705264                0.628849  \n",
       "73                0.754996      0.610008                0.581188  \n",
       "81                0.775665      0.689871                0.559697  \n",
       "75                0.699148      0.643888                0.558892  \n",
       "65                0.652588      0.544515                0.557029  \n",
       "27                0.696302      0.712953                0.511680  "
      ]
     },
     "execution_count": 17,
     "metadata": {},
     "output_type": "execute_result"
    }
   ],
   "source": [
    "# calculate Cosine Similarity between the query and all job titles\n",
    "random.seed(77)\n",
    "docs['ELMO_Cosine_Similarity'] = docs.apply((lambda row: cosine_similarity(\n",
    "                                                    create_elmo_embeddings(row['job_title']).reshape(1,-1),\n",
    "                                                    create_elmo_embeddings(query).reshape(1,-1))[0][0]),axis=1)\n",
    "\n",
    "# sort it    \n",
    "docs.sort_values(by='ELMO_Cosine_Similarity', ascending=False)[['job_title','ELMO_Cosine_Similarity']].head(20)"
   ]
  },
  {
   "cell_type": "markdown",
   "id": "6451d07c",
   "metadata": {},
   "source": [
    "# Learning to Rank <a class=\"anchor\" id=\"ltr\"></a> "
   ]
  },
  {
   "cell_type": "code",
   "execution_count": 32,
   "id": "3735ca47",
   "metadata": {},
   "outputs": [
    {
     "data": {
      "text/html": [
       "<div>\n",
       "<style scoped>\n",
       "    .dataframe tbody tr th:only-of-type {\n",
       "        vertical-align: middle;\n",
       "    }\n",
       "\n",
       "    .dataframe tbody tr th {\n",
       "        vertical-align: top;\n",
       "    }\n",
       "\n",
       "    .dataframe thead th {\n",
       "        text-align: right;\n",
       "    }\n",
       "</style>\n",
       "<table border=\"1\" class=\"dataframe\">\n",
       "  <thead>\n",
       "    <tr style=\"text-align: right;\">\n",
       "      <th></th>\n",
       "      <th>Doc2Vec_Cosine_Similarity</th>\n",
       "      <th>BERT_Cosine_Similarity</th>\n",
       "      <th>ELMO_Cosine_Similarity</th>\n",
       "      <th>Scaled_Connection</th>\n",
       "      <th>Target_Rank</th>\n",
       "    </tr>\n",
       "  </thead>\n",
       "  <tbody>\n",
       "    <tr>\n",
       "      <th>77</th>\n",
       "      <td>0.996022</td>\n",
       "      <td>0.589669</td>\n",
       "      <td>0.445697</td>\n",
       "      <td>1.000000</td>\n",
       "      <td>0</td>\n",
       "    </tr>\n",
       "    <tr>\n",
       "      <th>70</th>\n",
       "      <td>0.995471</td>\n",
       "      <td>0.559501</td>\n",
       "      <td>0.411359</td>\n",
       "      <td>1.000000</td>\n",
       "      <td>0</td>\n",
       "    </tr>\n",
       "    <tr>\n",
       "      <th>102</th>\n",
       "      <td>0.994992</td>\n",
       "      <td>0.296588</td>\n",
       "      <td>0.274777</td>\n",
       "      <td>1.000000</td>\n",
       "      <td>0</td>\n",
       "    </tr>\n",
       "    <tr>\n",
       "      <th>103</th>\n",
       "      <td>0.994567</td>\n",
       "      <td>0.335996</td>\n",
       "      <td>0.269287</td>\n",
       "      <td>1.000000</td>\n",
       "      <td>0</td>\n",
       "    </tr>\n",
       "    <tr>\n",
       "      <th>12</th>\n",
       "      <td>0.993857</td>\n",
       "      <td>0.541241</td>\n",
       "      <td>0.402998</td>\n",
       "      <td>1.000000</td>\n",
       "      <td>0</td>\n",
       "    </tr>\n",
       "    <tr>\n",
       "      <th>...</th>\n",
       "      <td>...</td>\n",
       "      <td>...</td>\n",
       "      <td>...</td>\n",
       "      <td>...</td>\n",
       "      <td>...</td>\n",
       "    </tr>\n",
       "    <tr>\n",
       "      <th>0</th>\n",
       "      <td>0.930990</td>\n",
       "      <td>0.721934</td>\n",
       "      <td>0.428323</td>\n",
       "      <td>0.168337</td>\n",
       "      <td>0</td>\n",
       "    </tr>\n",
       "    <tr>\n",
       "      <th>18</th>\n",
       "      <td>0.930845</td>\n",
       "      <td>0.721934</td>\n",
       "      <td>0.428323</td>\n",
       "      <td>0.168337</td>\n",
       "      <td>0</td>\n",
       "    </tr>\n",
       "    <tr>\n",
       "      <th>13</th>\n",
       "      <td>0.928390</td>\n",
       "      <td>0.721934</td>\n",
       "      <td>0.428323</td>\n",
       "      <td>0.168337</td>\n",
       "      <td>0</td>\n",
       "    </tr>\n",
       "    <tr>\n",
       "      <th>71</th>\n",
       "      <td>0.964931</td>\n",
       "      <td>0.638739</td>\n",
       "      <td>0.488449</td>\n",
       "      <td>0.008016</td>\n",
       "      <td>0</td>\n",
       "    </tr>\n",
       "    <tr>\n",
       "      <th>30</th>\n",
       "      <td>0.922921</td>\n",
       "      <td>0.721934</td>\n",
       "      <td>0.428323</td>\n",
       "      <td>0.168337</td>\n",
       "      <td>0</td>\n",
       "    </tr>\n",
       "  </tbody>\n",
       "</table>\n",
       "<p>104 rows × 5 columns</p>\n",
       "</div>"
      ],
      "text/plain": [
       "     Doc2Vec_Cosine_Similarity  BERT_Cosine_Similarity  \\\n",
       "77                    0.996022                0.589669   \n",
       "70                    0.995471                0.559501   \n",
       "102                   0.994992                0.296588   \n",
       "103                   0.994567                0.335996   \n",
       "12                    0.993857                0.541241   \n",
       "..                         ...                     ...   \n",
       "0                     0.930990                0.721934   \n",
       "18                    0.930845                0.721934   \n",
       "13                    0.928390                0.721934   \n",
       "71                    0.964931                0.638739   \n",
       "30                    0.922921                0.721934   \n",
       "\n",
       "     ELMO_Cosine_Similarity  Scaled_Connection  Target_Rank  \n",
       "77                 0.445697           1.000000            0  \n",
       "70                 0.411359           1.000000            0  \n",
       "102                0.274777           1.000000            0  \n",
       "103                0.269287           1.000000            0  \n",
       "12                 0.402998           1.000000            0  \n",
       "..                      ...                ...          ...  \n",
       "0                  0.428323           0.168337            0  \n",
       "18                 0.428323           0.168337            0  \n",
       "13                 0.428323           0.168337            0  \n",
       "71                 0.488449           0.008016            0  \n",
       "30                 0.428323           0.168337            0  \n",
       "\n",
       "[104 rows x 5 columns]"
      ]
     },
     "execution_count": 32,
     "metadata": {},
     "output_type": "execute_result"
    }
   ],
   "source": [
    "df_ltr=docs.sort_values('Doc2Vec_Ranking', ascending=False)[['Doc2Vec_Cosine_Similarity','BERT_Cosine_Similarity','ELMO_Cosine_Similarity','Scaled_Connection']]\n",
    "# set 0 as the default value for target rank\n",
    "df_ltr['Target_Rank']=0\n",
    "df_ltr"
   ]
  },
  {
   "cell_type": "code",
   "execution_count": 20,
   "id": "0abef611",
   "metadata": {
    "scrolled": false
   },
   "outputs": [
    {
     "data": {
      "text/html": [
       "<div>\n",
       "<style scoped>\n",
       "    .dataframe tbody tr th:only-of-type {\n",
       "        vertical-align: middle;\n",
       "    }\n",
       "\n",
       "    .dataframe tbody tr th {\n",
       "        vertical-align: top;\n",
       "    }\n",
       "\n",
       "    .dataframe thead th {\n",
       "        text-align: right;\n",
       "    }\n",
       "</style>\n",
       "<table border=\"1\" class=\"dataframe\">\n",
       "  <thead>\n",
       "    <tr style=\"text-align: right;\">\n",
       "      <th></th>\n",
       "      <th>Doc2Vec_Cosine_Similarity</th>\n",
       "      <th>BERT_Cosine_Similarity</th>\n",
       "      <th>ELMO_Cosine_Similarity</th>\n",
       "      <th>Scaled_Connection</th>\n",
       "      <th>Target_Rank</th>\n",
       "    </tr>\n",
       "  </thead>\n",
       "  <tbody>\n",
       "    <tr>\n",
       "      <th>77</th>\n",
       "      <td>0.996022</td>\n",
       "      <td>0.589669</td>\n",
       "      <td>0.445697</td>\n",
       "      <td>1.000000</td>\n",
       "      <td>1</td>\n",
       "    </tr>\n",
       "    <tr>\n",
       "      <th>70</th>\n",
       "      <td>0.995471</td>\n",
       "      <td>0.559501</td>\n",
       "      <td>0.411359</td>\n",
       "      <td>1.000000</td>\n",
       "      <td>1</td>\n",
       "    </tr>\n",
       "    <tr>\n",
       "      <th>102</th>\n",
       "      <td>0.994992</td>\n",
       "      <td>0.296588</td>\n",
       "      <td>0.274777</td>\n",
       "      <td>1.000000</td>\n",
       "      <td>1</td>\n",
       "    </tr>\n",
       "    <tr>\n",
       "      <th>103</th>\n",
       "      <td>0.994567</td>\n",
       "      <td>0.335996</td>\n",
       "      <td>0.269287</td>\n",
       "      <td>1.000000</td>\n",
       "      <td>1</td>\n",
       "    </tr>\n",
       "    <tr>\n",
       "      <th>12</th>\n",
       "      <td>0.993857</td>\n",
       "      <td>0.541241</td>\n",
       "      <td>0.402998</td>\n",
       "      <td>1.000000</td>\n",
       "      <td>1</td>\n",
       "    </tr>\n",
       "    <tr>\n",
       "      <th>...</th>\n",
       "      <td>...</td>\n",
       "      <td>...</td>\n",
       "      <td>...</td>\n",
       "      <td>...</td>\n",
       "      <td>...</td>\n",
       "    </tr>\n",
       "    <tr>\n",
       "      <th>0</th>\n",
       "      <td>0.930990</td>\n",
       "      <td>0.721934</td>\n",
       "      <td>0.428323</td>\n",
       "      <td>0.168337</td>\n",
       "      <td>0</td>\n",
       "    </tr>\n",
       "    <tr>\n",
       "      <th>18</th>\n",
       "      <td>0.930845</td>\n",
       "      <td>0.721934</td>\n",
       "      <td>0.428323</td>\n",
       "      <td>0.168337</td>\n",
       "      <td>0</td>\n",
       "    </tr>\n",
       "    <tr>\n",
       "      <th>13</th>\n",
       "      <td>0.928390</td>\n",
       "      <td>0.721934</td>\n",
       "      <td>0.428323</td>\n",
       "      <td>0.168337</td>\n",
       "      <td>0</td>\n",
       "    </tr>\n",
       "    <tr>\n",
       "      <th>71</th>\n",
       "      <td>0.964931</td>\n",
       "      <td>0.638739</td>\n",
       "      <td>0.488449</td>\n",
       "      <td>0.008016</td>\n",
       "      <td>0</td>\n",
       "    </tr>\n",
       "    <tr>\n",
       "      <th>30</th>\n",
       "      <td>0.922921</td>\n",
       "      <td>0.721934</td>\n",
       "      <td>0.428323</td>\n",
       "      <td>0.168337</td>\n",
       "      <td>0</td>\n",
       "    </tr>\n",
       "  </tbody>\n",
       "</table>\n",
       "<p>104 rows × 5 columns</p>\n",
       "</div>"
      ],
      "text/plain": [
       "     Doc2Vec_Cosine_Similarity  BERT_Cosine_Similarity  \\\n",
       "77                    0.996022                0.589669   \n",
       "70                    0.995471                0.559501   \n",
       "102                   0.994992                0.296588   \n",
       "103                   0.994567                0.335996   \n",
       "12                    0.993857                0.541241   \n",
       "..                         ...                     ...   \n",
       "0                     0.930990                0.721934   \n",
       "18                    0.930845                0.721934   \n",
       "13                    0.928390                0.721934   \n",
       "71                    0.964931                0.638739   \n",
       "30                    0.922921                0.721934   \n",
       "\n",
       "     ELMO_Cosine_Similarity  Scaled_Connection  Target_Rank  \n",
       "77                 0.445697           1.000000            1  \n",
       "70                 0.411359           1.000000            1  \n",
       "102                0.274777           1.000000            1  \n",
       "103                0.269287           1.000000            1  \n",
       "12                 0.402998           1.000000            1  \n",
       "..                      ...                ...          ...  \n",
       "0                  0.428323           0.168337            0  \n",
       "18                 0.428323           0.168337            0  \n",
       "13                 0.428323           0.168337            0  \n",
       "71                 0.488449           0.008016            0  \n",
       "30                 0.428323           0.168337            0  \n",
       "\n",
       "[104 rows x 5 columns]"
      ]
     },
     "execution_count": 20,
     "metadata": {},
     "output_type": "execute_result"
    }
   ],
   "source": [
    "# assume that top 10 applicants are considered to be the fittest ones, hence they'll be starred or \n",
    "# we'll set 1 for their target rank\n",
    "df_ltr.iloc[:10]['Target_Rank']=1\n",
    "df_ltr"
   ]
  },
  {
   "cell_type": "code",
   "execution_count": 22,
   "id": "7e01fb09",
   "metadata": {},
   "outputs": [],
   "source": [
    "X=df_ltr[['Doc2Vec_Cosine_Similarity','BERT_Cosine_Similarity','ELMO_Cosine_Similarity','Scaled_Connection']]\n",
    "y=df_ltr['Target_Rank']\n",
    "\n",
    "# train test split\n",
    "X_train, X_test, y_train, y_test = train_test_split(X, y, stratify=y, test_size=0.2, random_state=1)"
   ]
  },
  {
   "cell_type": "markdown",
   "id": "9669a3ba",
   "metadata": {},
   "source": [
    "Since Scikit learn does not support the metric ndcg score, let's create a custom randomized search cv."
   ]
  },
  {
   "cell_type": "code",
   "execution_count": 23,
   "id": "b8b651f2",
   "metadata": {
    "scrolled": false
   },
   "outputs": [],
   "source": [
    "param_dic = {\n",
    "    'learning_rate': list(np.arange(0.001, 0.1, 0.001)),\n",
    "    'n_estimators': list(range(5, 101)),\n",
    "    'num_leaves': list(range(5, 51)),\n",
    "    'max_depth': list(range(1, 20)),\n",
    "    'min_split_gain':list(10**i for i in range (-10,1)),\n",
    "    'min_child_samples':list(range(5, 21))}\n",
    "\n",
    "def randomized_search_cv_custom(x_train_total, y_train_total):\n",
    "    random.seed(88)    \n",
    "    x_train_total, y_train_total = x_train_total.reset_index(drop=True), y_train_total.reset_index(drop=True)\n",
    "    \n",
    "    # we would use the same default value of n_iter=10 as RandomizedSearchCV, \n",
    "    # and store the mean score of each iteration into these 2 lists\n",
    "    train_scores = []\n",
    "    test_scores = []\n",
    "\n",
    "    # create a list to save the random param set\n",
    "    param_list=[]\n",
    "    skf = StratifiedKFold(n_splits=5)\n",
    "\n",
    "    for iteration in tqdm(range(10)):\n",
    "        # for each iteration, we would take a random param set from param_dic and save it into a list\n",
    "        random_params = {k: random.choice(v) for k, v in param_dic.items()}\n",
    "        param_list.append(random_params)\n",
    "        \n",
    "        # each random param set would have 5 train and test scores  \n",
    "        trainscores_folds = []\n",
    "        testscores_folds = []\n",
    "\n",
    "        for fold_number, (train_index, test_index) in enumerate(skf.split(X_train, y_train)):\n",
    "            \n",
    "            # select datapoints based on test_index and train_index\n",
    "                x_train_fold = x_train_total.iloc[train_index]\n",
    "                y_train_fold = y_train_total.iloc[train_index]\n",
    "                x_test_fold = x_train_total.iloc[test_index]\n",
    "                y_test_fold = y_train_total.iloc[test_index]\n",
    "\n",
    "#             # sanity check     \n",
    "#                 print('Iter', iteration)\n",
    "#                 print('Fold number', fold_number)\n",
    "#                 print('Train index', list(x_train_fold.index))\n",
    "#                 print('Test index', list(x_test_fold.index))\n",
    "#                 print('--------------------------------------')\n",
    "                \n",
    "            # call and fit the classifier on the x_train_fold    \n",
    "                gbm = lightgbm.LGBMRanker(objective='lambdarank', n_jobs=-1, **random_params)\n",
    "                query_train = [x_train_fold.shape[0]]\n",
    "                gbm.fit(x_train_fold, y_train_fold, group=query_train, eval_metric='ndcg')\n",
    "\n",
    "            # predict x_test_fold and append the ndcg score in the testscores_folds\n",
    "                test_pred = gbm.predict(x_test_fold)\n",
    "                y_test_df = pd.DataFrame({\"relevance_score\": y_test_fold, \"predicted_ranking\": test_pred})\n",
    "                true_relevance = y_test_fold.sort_values(ascending=False)\n",
    "                relevance_score = y_test_df.sort_values(\"predicted_ranking\", ascending=False)\n",
    "                testscores_folds.append(ndcg_score([true_relevance.to_numpy()], \n",
    "                                                   [relevance_score[\"relevance_score\"].to_numpy()]))\n",
    "\n",
    "            # predict x_train_fold and append the ndcg score in the trainscores_folds\n",
    "                train_pred = gbm.predict(x_train_fold)\n",
    "                y_train_df = pd.DataFrame({\"relevance_score\": y_train_fold, \"predicted_ranking\": train_pred})\n",
    "                train_true_relevance = y_train_fold.sort_values(ascending=False)\n",
    "                train_relevance_score = y_train_df.sort_values(\"predicted_ranking\", ascending=False)\n",
    "                trainscores_folds.append(ndcg_score([train_true_relevance.to_numpy()], \n",
    "                                                    [train_relevance_score[\"relevance_score\"].to_numpy()]))\n",
    "\n",
    "    # append the mean score for each random param set\n",
    "    train_scores.append(np.mean(np.array(trainscores_folds)))\n",
    "    test_scores.append(np.mean(np.array(testscores_folds)))\n",
    "    \n",
    "    # get the highest validation score and best param set\n",
    "    highest_test_score=max(test_scores)\n",
    "    highest_test_score_index=np.argmax(test_scores)\n",
    "    best_param=param_list[highest_test_score_index]\n",
    "    return highest_test_score, best_param\n",
    "\n",
    "# sanity check \n",
    "#randomized_search_cv_custom(X_train, y_train)"
   ]
  },
  {
   "cell_type": "code",
   "execution_count": 24,
   "id": "f1057ab2",
   "metadata": {},
   "outputs": [
    {
     "name": "stderr",
     "output_type": "stream",
     "text": [
      "100%|████████████████████████████████████████████████████████████████████████████████████| 10/10 [00:01<00:00,  6.87it/s]"
     ]
    },
    {
     "name": "stdout",
     "output_type": "stream",
     "text": [
      "Highest validation score 0.8770910987887561\n",
      "\n",
      "Best params: {'learning_rate': 0.051000000000000004, 'n_estimators': 29, 'num_leaves': 26, 'max_depth': 6, 'min_split_gain': 1, 'min_child_samples': 5}\n"
     ]
    },
    {
     "name": "stderr",
     "output_type": "stream",
     "text": [
      "\n"
     ]
    }
   ],
   "source": [
    "# apply custom randomized search on train set\n",
    "highest_test_score, best_param = randomized_search_cv_custom(X_train, y_train)\n",
    "print('Highest validation score', highest_test_score)\n",
    "print('\\nBest params:', best_param)"
   ]
  },
  {
   "cell_type": "code",
   "execution_count": 28,
   "id": "253f43f2",
   "metadata": {
    "scrolled": true
   },
   "outputs": [
    {
     "data": {
      "text/html": [
       "<div>\n",
       "<style scoped>\n",
       "    .dataframe tbody tr th:only-of-type {\n",
       "        vertical-align: middle;\n",
       "    }\n",
       "\n",
       "    .dataframe tbody tr th {\n",
       "        vertical-align: top;\n",
       "    }\n",
       "\n",
       "    .dataframe thead th {\n",
       "        text-align: right;\n",
       "    }\n",
       "</style>\n",
       "<table border=\"1\" class=\"dataframe\">\n",
       "  <thead>\n",
       "    <tr style=\"text-align: right;\">\n",
       "      <th></th>\n",
       "      <th>Doc2Vec_Cosine_Similarity</th>\n",
       "      <th>BERT_Cosine_Similarity</th>\n",
       "      <th>ELMO_Cosine_Similarity</th>\n",
       "      <th>Scaled_Connection</th>\n",
       "      <th>Predicted_relevance_score</th>\n",
       "      <th>Target_Rank</th>\n",
       "    </tr>\n",
       "  </thead>\n",
       "  <tbody>\n",
       "    <tr>\n",
       "      <th>52</th>\n",
       "      <td>0.992563</td>\n",
       "      <td>0.591348</td>\n",
       "      <td>0.484473</td>\n",
       "      <td>1.0</td>\n",
       "      <td>1.672627</td>\n",
       "      <td>1</td>\n",
       "    </tr>\n",
       "    <tr>\n",
       "      <th>70</th>\n",
       "      <td>0.995471</td>\n",
       "      <td>0.559501</td>\n",
       "      <td>0.411359</td>\n",
       "      <td>1.0</td>\n",
       "      <td>1.672627</td>\n",
       "      <td>1</td>\n",
       "    </tr>\n",
       "    <tr>\n",
       "      <th>77</th>\n",
       "      <td>0.996022</td>\n",
       "      <td>0.589669</td>\n",
       "      <td>0.445697</td>\n",
       "      <td>1.0</td>\n",
       "      <td>1.672627</td>\n",
       "      <td>1</td>\n",
       "    </tr>\n",
       "    <tr>\n",
       "      <th>26</th>\n",
       "      <td>0.993100</td>\n",
       "      <td>0.631580</td>\n",
       "      <td>0.628849</td>\n",
       "      <td>1.0</td>\n",
       "      <td>1.672627</td>\n",
       "      <td>1</td>\n",
       "    </tr>\n",
       "    <tr>\n",
       "      <th>103</th>\n",
       "      <td>0.994567</td>\n",
       "      <td>0.335996</td>\n",
       "      <td>0.269287</td>\n",
       "      <td>1.0</td>\n",
       "      <td>1.672627</td>\n",
       "      <td>1</td>\n",
       "    </tr>\n",
       "  </tbody>\n",
       "</table>\n",
       "</div>"
      ],
      "text/plain": [
       "     Doc2Vec_Cosine_Similarity  BERT_Cosine_Similarity  \\\n",
       "52                    0.992563                0.591348   \n",
       "70                    0.995471                0.559501   \n",
       "77                    0.996022                0.589669   \n",
       "26                    0.993100                0.631580   \n",
       "103                   0.994567                0.335996   \n",
       "\n",
       "     ELMO_Cosine_Similarity  Scaled_Connection  Predicted_relevance_score  \\\n",
       "52                 0.484473                1.0                   1.672627   \n",
       "70                 0.411359                1.0                   1.672627   \n",
       "77                 0.445697                1.0                   1.672627   \n",
       "26                 0.628849                1.0                   1.672627   \n",
       "103                0.269287                1.0                   1.672627   \n",
       "\n",
       "     Target_Rank  \n",
       "52             1  \n",
       "70             1  \n",
       "77             1  \n",
       "26             1  \n",
       "103            1  "
      ]
     },
     "execution_count": 28,
     "metadata": {},
     "output_type": "execute_result"
    }
   ],
   "source": [
    "# call and fit the best model\n",
    "gbm_optimal = lightgbm.LGBMRanker(**best_param, random_state=100)\n",
    "query_train = [X_train.shape[0]]\n",
    "gbm_optimal.fit(X_train, y_train, group=query_train, eval_metric='ndcg')\n",
    "\n",
    "# predict and put into the dataframe\n",
    "X_train[\"Predicted_relevance_score\"] = gbm_optimal.predict(X_train)\n",
    "X_train['Target_Rank'] = y_train\n",
    "X_test[\"Predicted_relevance_score\"] = gbm_optimal.predict(X_test)\n",
    "X_test['Target_Rank'] = y_test\n",
    "\n",
    "# sort \n",
    "X_train_sorted = X_train.sort_values(\"Predicted_relevance_score\", ascending=False)\n",
    "X_test_sorted = X_test.sort_values(\"Predicted_relevance_score\", ascending=False)\n",
    "X_train_sorted.head()"
   ]
  },
  {
   "cell_type": "code",
   "execution_count": 30,
   "id": "d3199066",
   "metadata": {},
   "outputs": [
    {
     "name": "stdout",
     "output_type": "stream",
     "text": [
      "nDCG@10 score on TRAIN set: 1.0\n",
      "nDCG@10 score on TEST set: 1.0\n",
      "nDCG@10 score DIFFERENCE: 0.0\n"
     ]
    }
   ],
   "source": [
    "# calculate ndcg score\n",
    "y_train_true=[y_train.sort_values(ascending=False).to_numpy()]\n",
    "y_train_score=[X_train_sorted['Target_Rank'].to_numpy()]\n",
    "y_test_true=[y_test.sort_values(ascending=False).to_numpy()]\n",
    "y_test_score=[X_test_sorted['Target_Rank'].to_numpy()]\n",
    "\n",
    "ndcg_train=ndcg_score(y_train_true, y_train_score, k=10)\n",
    "ndcg_test=ndcg_score(y_test_true, y_test_score, k=10)\n",
    "\n",
    "print('nDCG@10 score on TRAIN set:', round(ndcg_train,2))\n",
    "print('nDCG@10 score on TEST set:', round(ndcg_test,2))\n",
    "print('nDCG@10 score DIFFERENCE:', round(ndcg_train-ndcg_test,2))"
   ]
  },
  {
   "cell_type": "markdown",
   "id": "ac8b14ad",
   "metadata": {},
   "source": [
    "We've built a desired ranking model with ndcg score are all absolute on both train and test sets."
   ]
  },
  {
   "cell_type": "markdown",
   "id": "dc2285d6",
   "metadata": {},
   "source": [
    "# Conclusion <a class=\"anchor\" id=\"cl\"></a> "
   ]
  },
  {
   "cell_type": "markdown",
   "id": "dfc3f584",
   "metadata": {},
   "source": [
    "This project features how to rank job applicants based on a fitness score - the weighted sum of similarity score and scaled connection - based on 3 kinds of embeddings (Doc2Vec, BERT, and ELMo). After starring some (or top 10) candidates as the fittest ones, a learning-to-rank model with features including 3 similarity scores and scaled connection will re-rank and evaluate the top 10 resulting positions based on the metric ndcg score. And with the custom randomized search cv, we've found the best learning-to-rank model with ndcg score = 1.0 on both train and test sets.\n",
    "\n",
    "**Room for improvement:** we can filter out candidates who in the first place should not be in this list by setting a threshold for the similarity score between the job title and the query. For example, after sorting and considering the relevance between the bottom job titles and the query, we can determine a cut-off point such that a candidate will be considered potentially fit if their similarity score is >= 0.5 or >= 0.6. "
   ]
  }
 ],
 "metadata": {
  "kernelspec": {
   "display_name": "new_deeplearning",
   "language": "python",
   "name": "new_deeplearning"
  },
  "language_info": {
   "codemirror_mode": {
    "name": "ipython",
    "version": 3
   },
   "file_extension": ".py",
   "mimetype": "text/x-python",
   "name": "python",
   "nbconvert_exporter": "python",
   "pygments_lexer": "ipython3",
   "version": "3.8.16"
  }
 },
 "nbformat": 4,
 "nbformat_minor": 5
}
